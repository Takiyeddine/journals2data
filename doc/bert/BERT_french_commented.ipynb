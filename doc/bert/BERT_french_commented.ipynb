{
 "cells": [
  {
   "cell_type": "markdown",
   "metadata": {
    "id": "lZMtZJ8wMmop"
   },
   "source": [
    "#Model training for recognising press article titles\n",
    "*Author: Nada Lasri*\n",
    "\n",
    "This notebook aims at train models in several languages (mainly French) for recognising article titles and links"
   ]
  },
  {
   "cell_type": "code",
   "execution_count": 1,
   "metadata": {
    "executionInfo": {
     "elapsed": 607,
     "status": "ok",
     "timestamp": 1611936407980,
     "user": {
      "displayName": "Amine Nahid",
      "photoUrl": "https://lh3.googleusercontent.com/a-/AOh14Gjta6xc2OIrod2QeIOzOwOxxvQJFxV96DdG1KCZsQ=s64",
      "userId": "01452933282173345619"
     },
     "user_tz": -60
    },
    "id": "72ErQg0-nS7K"
   },
   "outputs": [],
   "source": [
    "import requests \n",
    "import re\n",
    "from bs4 import BeautifulSoup\n",
    "import datetime\n",
    "import urllib\n",
    "import requests\n",
    "import lxml.html\n",
    "import json\n",
    "import csv\n",
    "import sys\n",
    "import requests\n",
    "from urllib.parse import urlparse, urljoin\n",
    "from bs4 import BeautifulSoup\n",
    "from transformers import DistilBertTokenizerFast\n",
    "from transformers import TFDistilBertForSequenceClassification\n",
    "import tensorflow as tf\n",
    "import torch\n",
    "from transformers import CamembertModel\n",
    "from transformers import CamembertTokenizer\n",
    "from transformers import glue_convert_examples_to_features, InputExample\n",
    "\n",
    "import pandas as pd\n",
    "from sklearn.model_selection import train_test_split\n"
   ]
  },
  {
   "cell_type": "code",
   "execution_count": 2,
   "metadata": {
    "colab": {
     "base_uri": "https://localhost:8080/",
     "height": 1000
    },
    "executionInfo": {
     "elapsed": 29657,
     "status": "ok",
     "timestamp": 1611936036497,
     "user": {
      "displayName": "Amine Nahid",
      "photoUrl": "https://lh3.googleusercontent.com/a-/AOh14Gjta6xc2OIrod2QeIOzOwOxxvQJFxV96DdG1KCZsQ=s64",
      "userId": "01452933282173345619"
     },
     "user_tz": -60
    },
    "id": "IFZdVLzHoQVH",
    "outputId": "e5e2379b-4df2-451a-d98c-fb1a0da500c7"
   },
   "outputs": [
    {
     "name": "stdout",
     "output_type": "stream",
     "text": [
      "Requirement already satisfied: sentencepiece in /home/cboscher/anaconda3/envs/cati_env/lib/python3.8/site-packages (0.1.95)\n",
      "Requirement already satisfied: hydra-core in /home/cboscher/anaconda3/envs/cati_env/lib/python3.8/site-packages (1.0.6)\n",
      "Requirement already satisfied: omegaconf<2.1,>=2.0.5 in /home/cboscher/anaconda3/envs/cati_env/lib/python3.8/site-packages (from hydra-core) (2.0.6)\n",
      "Requirement already satisfied: importlib-resources in /home/cboscher/anaconda3/envs/cati_env/lib/python3.8/site-packages (from hydra-core) (5.1.2)\n",
      "Requirement already satisfied: antlr4-python3-runtime==4.8 in /home/cboscher/anaconda3/envs/cati_env/lib/python3.8/site-packages (from hydra-core) (4.8)\n",
      "Requirement already satisfied: typing-extensions in /home/cboscher/anaconda3/envs/cati_env/lib/python3.8/site-packages (from omegaconf<2.1,>=2.0.5->hydra-core) (3.7.4.3)\n",
      "Requirement already satisfied: PyYAML>=5.1.* in /home/cboscher/anaconda3/envs/cati_env/lib/python3.8/site-packages (from omegaconf<2.1,>=2.0.5->hydra-core) (5.4.1)\n",
      "Requirement already satisfied: omegaconf in /home/cboscher/anaconda3/envs/cati_env/lib/python3.8/site-packages (2.0.6)\n",
      "Requirement already satisfied: PyYAML>=5.1.* in /home/cboscher/anaconda3/envs/cati_env/lib/python3.8/site-packages (from omegaconf) (5.4.1)\n",
      "Requirement already satisfied: typing-extensions in /home/cboscher/anaconda3/envs/cati_env/lib/python3.8/site-packages (from omegaconf) (3.7.4.3)\n",
      "Requirement already satisfied: simpletransformers in /home/cboscher/anaconda3/envs/cati_env/lib/python3.8/site-packages (0.61.4)\n",
      "Requirement already satisfied: tokenizers in /home/cboscher/anaconda3/envs/cati_env/lib/python3.8/site-packages (from simpletransformers) (0.10.1)\n",
      "Collecting tqdm>=4.47.0\n",
      "  Downloading tqdm-4.60.0-py2.py3-none-any.whl (75 kB)\n",
      "\u001b[K     |████████████████████████████████| 75 kB 8.0 MB/s  eta 0:00:01\n",
      "\u001b[?25hRequirement already satisfied: tensorboardx in /home/cboscher/anaconda3/envs/cati_env/lib/python3.8/site-packages (from simpletransformers) (2.1)\n",
      "Requirement already satisfied: seqeval in /home/cboscher/anaconda3/envs/cati_env/lib/python3.8/site-packages (from simpletransformers) (1.2.2)\n",
      "Requirement already satisfied: wandb in /home/cboscher/anaconda3/envs/cati_env/lib/python3.8/site-packages (from simpletransformers) (0.10.23)\n",
      "Requirement already satisfied: streamlit in /home/cboscher/anaconda3/envs/cati_env/lib/python3.8/site-packages (from simpletransformers) (0.79.0)\n",
      "Requirement already satisfied: scikit-learn in /home/cboscher/anaconda3/envs/cati_env/lib/python3.8/site-packages (from simpletransformers) (0.24.1)\n",
      "Requirement already satisfied: pandas in /home/cboscher/anaconda3/envs/cati_env/lib/python3.8/site-packages (from simpletransformers) (1.2.3)\n",
      "Requirement already satisfied: sentencepiece in /home/cboscher/anaconda3/envs/cati_env/lib/python3.8/site-packages (from simpletransformers) (0.1.95)\n",
      "Requirement already satisfied: datasets in /home/cboscher/anaconda3/envs/cati_env/lib/python3.8/site-packages (from simpletransformers) (1.5.0)\n",
      "Requirement already satisfied: scipy in /home/cboscher/anaconda3/envs/cati_env/lib/python3.8/site-packages (from simpletransformers) (1.6.1)\n",
      "Requirement already satisfied: numpy in /home/cboscher/anaconda3/envs/cati_env/lib/python3.8/site-packages (from simpletransformers) (1.19.5)\n",
      "Requirement already satisfied: transformers>=4.2.0 in /home/cboscher/anaconda3/envs/cati_env/lib/python3.8/site-packages (from simpletransformers) (4.4.2)\n",
      "Requirement already satisfied: requests in /home/cboscher/anaconda3/envs/cati_env/lib/python3.8/site-packages (from simpletransformers) (2.25.1)\n",
      "Requirement already satisfied: regex in /home/cboscher/anaconda3/envs/cati_env/lib/python3.8/site-packages (from simpletransformers) (2021.3.17)\n",
      "Requirement already satisfied: filelock in /home/cboscher/anaconda3/envs/cati_env/lib/python3.8/site-packages (from transformers>=4.2.0->simpletransformers) (3.0.12)\n",
      "Requirement already satisfied: sacremoses in /home/cboscher/anaconda3/envs/cati_env/lib/python3.8/site-packages (from transformers>=4.2.0->simpletransformers) (0.0.35)\n",
      "Requirement already satisfied: packaging in /home/cboscher/anaconda3/envs/cati_env/lib/python3.8/site-packages (from transformers>=4.2.0->simpletransformers) (20.9)\n",
      "Requirement already satisfied: multiprocess in /home/cboscher/anaconda3/envs/cati_env/lib/python3.8/site-packages (from datasets->simpletransformers) (0.70.11.1)\n",
      "  Using cached tqdm-4.49.0-py2.py3-none-any.whl (69 kB)\n",
      "Requirement already satisfied: xxhash in /home/cboscher/anaconda3/envs/cati_env/lib/python3.8/site-packages (from datasets->simpletransformers) (2.0.0)\n",
      "Requirement already satisfied: pyarrow>=0.17.1 in /home/cboscher/anaconda3/envs/cati_env/lib/python3.8/site-packages (from datasets->simpletransformers) (3.0.0)\n",
      "Requirement already satisfied: dill in /home/cboscher/anaconda3/envs/cati_env/lib/python3.8/site-packages (from datasets->simpletransformers) (0.3.3)\n",
      "Requirement already satisfied: huggingface-hub<0.1.0 in /home/cboscher/anaconda3/envs/cati_env/lib/python3.8/site-packages (from datasets->simpletransformers) (0.0.7)\n",
      "Requirement already satisfied: fsspec in /home/cboscher/anaconda3/envs/cati_env/lib/python3.8/site-packages (from datasets->simpletransformers) (0.8.7)\n",
      "Requirement already satisfied: chardet<5,>=3.0.2 in /home/cboscher/anaconda3/envs/cati_env/lib/python3.8/site-packages (from requests->simpletransformers) (4.0.0)\n",
      "Requirement already satisfied: certifi>=2017.4.17 in /home/cboscher/anaconda3/envs/cati_env/lib/python3.8/site-packages (from requests->simpletransformers) (2020.6.20)\n",
      "Requirement already satisfied: idna<3,>=2.5 in /home/cboscher/anaconda3/envs/cati_env/lib/python3.8/site-packages (from requests->simpletransformers) (2.10)\n",
      "Requirement already satisfied: urllib3<1.27,>=1.21.1 in /home/cboscher/anaconda3/envs/cati_env/lib/python3.8/site-packages (from requests->simpletransformers) (1.26.4)\n",
      "Requirement already satisfied: pyparsing>=2.0.2 in /home/cboscher/anaconda3/envs/cati_env/lib/python3.8/site-packages (from packaging->transformers>=4.2.0->simpletransformers) (2.4.7)\n",
      "Requirement already satisfied: python-dateutil>=2.7.3 in /home/cboscher/anaconda3/envs/cati_env/lib/python3.8/site-packages (from pandas->simpletransformers) (2.8.1)\n",
      "Requirement already satisfied: pytz>=2017.3 in /home/cboscher/anaconda3/envs/cati_env/lib/python3.8/site-packages (from pandas->simpletransformers) (2021.1)\n",
      "Requirement already satisfied: six>=1.5 in /home/cboscher/anaconda3/envs/cati_env/lib/python3.8/site-packages (from python-dateutil>=2.7.3->pandas->simpletransformers) (1.15.0)\n",
      "Requirement already satisfied: click in /home/cboscher/anaconda3/envs/cati_env/lib/python3.8/site-packages (from sacremoses->transformers>=4.2.0->simpletransformers) (7.1.2)\n",
      "Requirement already satisfied: joblib in /home/cboscher/anaconda3/envs/cati_env/lib/python3.8/site-packages (from sacremoses->transformers>=4.2.0->simpletransformers) (1.0.1)\n",
      "Requirement already satisfied: threadpoolctl>=2.0.0 in /home/cboscher/anaconda3/envs/cati_env/lib/python3.8/site-packages (from scikit-learn->simpletransformers) (2.1.0)\n",
      "Requirement already satisfied: blinker in /home/cboscher/anaconda3/envs/cati_env/lib/python3.8/site-packages (from streamlit->simpletransformers) (1.4)\n",
      "Requirement already satisfied: base58 in /home/cboscher/anaconda3/envs/cati_env/lib/python3.8/site-packages (from streamlit->simpletransformers) (2.1.0)\n",
      "Requirement already satisfied: astor in /home/cboscher/anaconda3/envs/cati_env/lib/python3.8/site-packages (from streamlit->simpletransformers) (0.8.1)\n",
      "Requirement already satisfied: tornado>=5.0 in /home/cboscher/anaconda3/envs/cati_env/lib/python3.8/site-packages (from streamlit->simpletransformers) (6.1)\n",
      "Requirement already satisfied: gitpython in /home/cboscher/anaconda3/envs/cati_env/lib/python3.8/site-packages (from streamlit->simpletransformers) (3.1.14)\n",
      "Requirement already satisfied: pillow>=6.2.0 in /home/cboscher/anaconda3/envs/cati_env/lib/python3.8/site-packages (from streamlit->simpletransformers) (8.1.2)\n",
      "Requirement already satisfied: toml in /home/cboscher/anaconda3/envs/cati_env/lib/python3.8/site-packages (from streamlit->simpletransformers) (0.10.2)\n",
      "Requirement already satisfied: pydeck>=0.1.dev5 in /home/cboscher/anaconda3/envs/cati_env/lib/python3.8/site-packages (from streamlit->simpletransformers) (0.6.1)\n",
      "Requirement already satisfied: watchdog in /home/cboscher/anaconda3/envs/cati_env/lib/python3.8/site-packages (from streamlit->simpletransformers) (2.0.2)\n",
      "Requirement already satisfied: cachetools>=4.0 in /home/cboscher/anaconda3/envs/cati_env/lib/python3.8/site-packages (from streamlit->simpletransformers) (4.2.1)\n",
      "Requirement already satisfied: validators in /home/cboscher/anaconda3/envs/cati_env/lib/python3.8/site-packages (from streamlit->simpletransformers) (0.18.2)\n",
      "Requirement already satisfied: altair>=3.2.0 in /home/cboscher/anaconda3/envs/cati_env/lib/python3.8/site-packages (from streamlit->simpletransformers) (4.1.0)\n",
      "Requirement already satisfied: tzlocal in /home/cboscher/anaconda3/envs/cati_env/lib/python3.8/site-packages (from streamlit->simpletransformers) (2.1)\n",
      "Requirement already satisfied: protobuf!=3.11,>=3.6.0 in /home/cboscher/anaconda3/envs/cati_env/lib/python3.8/site-packages (from streamlit->simpletransformers) (3.15.6)\n"
     ]
    },
    {
     "name": "stdout",
     "output_type": "stream",
     "text": [
      "Requirement already satisfied: entrypoints in /home/cboscher/anaconda3/envs/cati_env/lib/python3.8/site-packages (from altair>=3.2.0->streamlit->simpletransformers) (0.3)\n",
      "Requirement already satisfied: jinja2 in /home/cboscher/anaconda3/envs/cati_env/lib/python3.8/site-packages (from altair>=3.2.0->streamlit->simpletransformers) (2.11.3)\n",
      "Requirement already satisfied: jsonschema in /home/cboscher/anaconda3/envs/cati_env/lib/python3.8/site-packages (from altair>=3.2.0->streamlit->simpletransformers) (3.2.0)\n",
      "Requirement already satisfied: toolz in /home/cboscher/anaconda3/envs/cati_env/lib/python3.8/site-packages (from altair>=3.2.0->streamlit->simpletransformers) (0.11.1)\n",
      "Requirement already satisfied: ipywidgets>=7.0.0 in /home/cboscher/anaconda3/envs/cati_env/lib/python3.8/site-packages (from pydeck>=0.1.dev5->streamlit->simpletransformers) (7.6.3)\n",
      "Requirement already satisfied: ipykernel>=5.1.2 in /home/cboscher/anaconda3/envs/cati_env/lib/python3.8/site-packages (from pydeck>=0.1.dev5->streamlit->simpletransformers) (5.5.0)\n",
      "Requirement already satisfied: traitlets>=4.3.2 in /home/cboscher/anaconda3/envs/cati_env/lib/python3.8/site-packages (from pydeck>=0.1.dev5->streamlit->simpletransformers) (5.0.5)\n",
      "Requirement already satisfied: jupyter-client in /home/cboscher/anaconda3/envs/cati_env/lib/python3.8/site-packages (from ipykernel>=5.1.2->pydeck>=0.1.dev5->streamlit->simpletransformers) (6.1.12)\n",
      "Requirement already satisfied: ipython>=5.0.0 in /home/cboscher/anaconda3/envs/cati_env/lib/python3.8/site-packages (from ipykernel>=5.1.2->pydeck>=0.1.dev5->streamlit->simpletransformers) (7.22.0)\n",
      "Requirement already satisfied: pygments in /home/cboscher/anaconda3/envs/cati_env/lib/python3.8/site-packages (from ipython>=5.0.0->ipykernel>=5.1.2->pydeck>=0.1.dev5->streamlit->simpletransformers) (2.8.1)\n",
      "Requirement already satisfied: backcall in /home/cboscher/anaconda3/envs/cati_env/lib/python3.8/site-packages (from ipython>=5.0.0->ipykernel>=5.1.2->pydeck>=0.1.dev5->streamlit->simpletransformers) (0.2.0)\n",
      "Requirement already satisfied: pickleshare in /home/cboscher/anaconda3/envs/cati_env/lib/python3.8/site-packages (from ipython>=5.0.0->ipykernel>=5.1.2->pydeck>=0.1.dev5->streamlit->simpletransformers) (0.7.5)\n",
      "Requirement already satisfied: jedi>=0.16 in /home/cboscher/anaconda3/envs/cati_env/lib/python3.8/site-packages (from ipython>=5.0.0->ipykernel>=5.1.2->pydeck>=0.1.dev5->streamlit->simpletransformers) (0.18.0)\n",
      "Requirement already satisfied: setuptools>=18.5 in /home/cboscher/anaconda3/envs/cati_env/lib/python3.8/site-packages (from ipython>=5.0.0->ipykernel>=5.1.2->pydeck>=0.1.dev5->streamlit->simpletransformers) (52.0.0.post20210125)\n",
      "Requirement already satisfied: prompt-toolkit!=3.0.0,!=3.0.1,<3.1.0,>=2.0.0 in /home/cboscher/anaconda3/envs/cati_env/lib/python3.8/site-packages (from ipython>=5.0.0->ipykernel>=5.1.2->pydeck>=0.1.dev5->streamlit->simpletransformers) (3.0.18)\n",
      "Requirement already satisfied: decorator in /home/cboscher/anaconda3/envs/cati_env/lib/python3.8/site-packages (from ipython>=5.0.0->ipykernel>=5.1.2->pydeck>=0.1.dev5->streamlit->simpletransformers) (4.4.2)\n",
      "Requirement already satisfied: pexpect>4.3 in /home/cboscher/anaconda3/envs/cati_env/lib/python3.8/site-packages (from ipython>=5.0.0->ipykernel>=5.1.2->pydeck>=0.1.dev5->streamlit->simpletransformers) (4.8.0)\n",
      "Requirement already satisfied: widgetsnbextension~=3.5.0 in /home/cboscher/anaconda3/envs/cati_env/lib/python3.8/site-packages (from ipywidgets>=7.0.0->pydeck>=0.1.dev5->streamlit->simpletransformers) (3.5.1)\n",
      "Requirement already satisfied: nbformat>=4.2.0 in /home/cboscher/anaconda3/envs/cati_env/lib/python3.8/site-packages (from ipywidgets>=7.0.0->pydeck>=0.1.dev5->streamlit->simpletransformers) (5.1.2)\n",
      "Requirement already satisfied: jupyterlab-widgets>=1.0.0 in /home/cboscher/anaconda3/envs/cati_env/lib/python3.8/site-packages (from ipywidgets>=7.0.0->pydeck>=0.1.dev5->streamlit->simpletransformers) (1.0.0)\n",
      "Requirement already satisfied: parso<0.9.0,>=0.8.0 in /home/cboscher/anaconda3/envs/cati_env/lib/python3.8/site-packages (from jedi>=0.16->ipython>=5.0.0->ipykernel>=5.1.2->pydeck>=0.1.dev5->streamlit->simpletransformers) (0.8.1)\n",
      "Requirement already satisfied: MarkupSafe>=0.23 in /home/cboscher/anaconda3/envs/cati_env/lib/python3.8/site-packages (from jinja2->altair>=3.2.0->streamlit->simpletransformers) (1.1.1)\n",
      "Requirement already satisfied: jupyter-core in /home/cboscher/anaconda3/envs/cati_env/lib/python3.8/site-packages (from nbformat>=4.2.0->ipywidgets>=7.0.0->pydeck>=0.1.dev5->streamlit->simpletransformers) (4.7.1)\n",
      "Requirement already satisfied: ipython-genutils in /home/cboscher/anaconda3/envs/cati_env/lib/python3.8/site-packages (from nbformat>=4.2.0->ipywidgets>=7.0.0->pydeck>=0.1.dev5->streamlit->simpletransformers) (0.2.0)\n",
      "Requirement already satisfied: pyrsistent>=0.14.0 in /home/cboscher/anaconda3/envs/cati_env/lib/python3.8/site-packages (from jsonschema->altair>=3.2.0->streamlit->simpletransformers) (0.17.3)\n",
      "Requirement already satisfied: attrs>=17.4.0 in /home/cboscher/anaconda3/envs/cati_env/lib/python3.8/site-packages (from jsonschema->altair>=3.2.0->streamlit->simpletransformers) (20.3.0)\n",
      "Requirement already satisfied: ptyprocess>=0.5 in /home/cboscher/anaconda3/envs/cati_env/lib/python3.8/site-packages (from pexpect>4.3->ipython>=5.0.0->ipykernel>=5.1.2->pydeck>=0.1.dev5->streamlit->simpletransformers) (0.7.0)\n",
      "Requirement already satisfied: wcwidth in /home/cboscher/anaconda3/envs/cati_env/lib/python3.8/site-packages (from prompt-toolkit!=3.0.0,!=3.0.1,<3.1.0,>=2.0.0->ipython>=5.0.0->ipykernel>=5.1.2->pydeck>=0.1.dev5->streamlit->simpletransformers) (0.2.5)\n",
      "Requirement already satisfied: notebook>=4.4.1 in /home/cboscher/anaconda3/envs/cati_env/lib/python3.8/site-packages (from widgetsnbextension~=3.5.0->ipywidgets>=7.0.0->pydeck>=0.1.dev5->streamlit->simpletransformers) (6.3.0)\n",
      "Requirement already satisfied: prometheus-client in /home/cboscher/anaconda3/envs/cati_env/lib/python3.8/site-packages (from notebook>=4.4.1->widgetsnbextension~=3.5.0->ipywidgets>=7.0.0->pydeck>=0.1.dev5->streamlit->simpletransformers) (0.9.0)\n",
      "Requirement already satisfied: terminado>=0.8.3 in /home/cboscher/anaconda3/envs/cati_env/lib/python3.8/site-packages (from notebook>=4.4.1->widgetsnbextension~=3.5.0->ipywidgets>=7.0.0->pydeck>=0.1.dev5->streamlit->simpletransformers) (0.9.4)\n",
      "Requirement already satisfied: nbconvert in /home/cboscher/anaconda3/envs/cati_env/lib/python3.8/site-packages (from notebook>=4.4.1->widgetsnbextension~=3.5.0->ipywidgets>=7.0.0->pydeck>=0.1.dev5->streamlit->simpletransformers) (6.0.7)\n",
      "Requirement already satisfied: pyzmq>=17 in /home/cboscher/anaconda3/envs/cati_env/lib/python3.8/site-packages (from notebook>=4.4.1->widgetsnbextension~=3.5.0->ipywidgets>=7.0.0->pydeck>=0.1.dev5->streamlit->simpletransformers) (22.0.3)\n",
      "Requirement already satisfied: argon2-cffi in /home/cboscher/anaconda3/envs/cati_env/lib/python3.8/site-packages (from notebook>=4.4.1->widgetsnbextension~=3.5.0->ipywidgets>=7.0.0->pydeck>=0.1.dev5->streamlit->simpletransformers) (20.1.0)\n",
      "Requirement already satisfied: Send2Trash>=1.5.0 in /home/cboscher/anaconda3/envs/cati_env/lib/python3.8/site-packages (from notebook>=4.4.1->widgetsnbextension~=3.5.0->ipywidgets>=7.0.0->pydeck>=0.1.dev5->streamlit->simpletransformers) (1.5.0)\n",
      "Requirement already satisfied: cffi>=1.0.0 in /home/cboscher/anaconda3/envs/cati_env/lib/python3.8/site-packages (from argon2-cffi->notebook>=4.4.1->widgetsnbextension~=3.5.0->ipywidgets>=7.0.0->pydeck>=0.1.dev5->streamlit->simpletransformers) (1.14.5)\n",
      "Requirement already satisfied: pycparser in /home/cboscher/anaconda3/envs/cati_env/lib/python3.8/site-packages (from cffi>=1.0.0->argon2-cffi->notebook>=4.4.1->widgetsnbextension~=3.5.0->ipywidgets>=7.0.0->pydeck>=0.1.dev5->streamlit->simpletransformers) (2.20)\n",
      "Requirement already satisfied: gitdb<5,>=4.0.1 in /home/cboscher/anaconda3/envs/cati_env/lib/python3.8/site-packages (from gitpython->streamlit->simpletransformers) (4.0.7)\n",
      "Requirement already satisfied: smmap<5,>=3.0.1 in /home/cboscher/anaconda3/envs/cati_env/lib/python3.8/site-packages (from gitdb<5,>=4.0.1->gitpython->streamlit->simpletransformers) (4.0.0)\n",
      "Requirement already satisfied: nbclient<0.6.0,>=0.5.0 in /home/cboscher/anaconda3/envs/cati_env/lib/python3.8/site-packages (from nbconvert->notebook>=4.4.1->widgetsnbextension~=3.5.0->ipywidgets>=7.0.0->pydeck>=0.1.dev5->streamlit->simpletransformers) (0.5.3)\n",
      "Requirement already satisfied: mistune<2,>=0.8.1 in /home/cboscher/anaconda3/envs/cati_env/lib/python3.8/site-packages (from nbconvert->notebook>=4.4.1->widgetsnbextension~=3.5.0->ipywidgets>=7.0.0->pydeck>=0.1.dev5->streamlit->simpletransformers) (0.8.4)\n",
      "Requirement already satisfied: defusedxml in /home/cboscher/anaconda3/envs/cati_env/lib/python3.8/site-packages (from nbconvert->notebook>=4.4.1->widgetsnbextension~=3.5.0->ipywidgets>=7.0.0->pydeck>=0.1.dev5->streamlit->simpletransformers) (0.7.1)\n",
      "Requirement already satisfied: jupyterlab-pygments in /home/cboscher/anaconda3/envs/cati_env/lib/python3.8/site-packages (from nbconvert->notebook>=4.4.1->widgetsnbextension~=3.5.0->ipywidgets>=7.0.0->pydeck>=0.1.dev5->streamlit->simpletransformers) (0.1.2)\n",
      "Requirement already satisfied: testpath in /home/cboscher/anaconda3/envs/cati_env/lib/python3.8/site-packages (from nbconvert->notebook>=4.4.1->widgetsnbextension~=3.5.0->ipywidgets>=7.0.0->pydeck>=0.1.dev5->streamlit->simpletransformers) (0.4.4)\n",
      "Requirement already satisfied: pandocfilters>=1.4.1 in /home/cboscher/anaconda3/envs/cati_env/lib/python3.8/site-packages (from nbconvert->notebook>=4.4.1->widgetsnbextension~=3.5.0->ipywidgets>=7.0.0->pydeck>=0.1.dev5->streamlit->simpletransformers) (1.4.3)\n",
      "Requirement already satisfied: bleach in /home/cboscher/anaconda3/envs/cati_env/lib/python3.8/site-packages (from nbconvert->notebook>=4.4.1->widgetsnbextension~=3.5.0->ipywidgets>=7.0.0->pydeck>=0.1.dev5->streamlit->simpletransformers) (3.3.0)\n"
     ]
    },
    {
     "name": "stdout",
     "output_type": "stream",
     "text": [
      "Requirement already satisfied: nest-asyncio in /home/cboscher/anaconda3/envs/cati_env/lib/python3.8/site-packages (from nbclient<0.6.0,>=0.5.0->nbconvert->notebook>=4.4.1->widgetsnbextension~=3.5.0->ipywidgets>=7.0.0->pydeck>=0.1.dev5->streamlit->simpletransformers) (1.5.1)\n",
      "Requirement already satisfied: async-generator in /home/cboscher/anaconda3/envs/cati_env/lib/python3.8/site-packages (from nbclient<0.6.0,>=0.5.0->nbconvert->notebook>=4.4.1->widgetsnbextension~=3.5.0->ipywidgets>=7.0.0->pydeck>=0.1.dev5->streamlit->simpletransformers) (1.10)\n",
      "Requirement already satisfied: webencodings in /home/cboscher/anaconda3/envs/cati_env/lib/python3.8/site-packages (from bleach->nbconvert->notebook>=4.4.1->widgetsnbextension~=3.5.0->ipywidgets>=7.0.0->pydeck>=0.1.dev5->streamlit->simpletransformers) (0.5.1)\n",
      "Requirement already satisfied: promise<3,>=2.0 in /home/cboscher/anaconda3/envs/cati_env/lib/python3.8/site-packages (from wandb->simpletransformers) (2.3)\n",
      "Requirement already satisfied: psutil>=5.0.0 in /home/cboscher/anaconda3/envs/cati_env/lib/python3.8/site-packages (from wandb->simpletransformers) (5.8.0)\n",
      "Requirement already satisfied: sentry-sdk>=0.4.0 in /home/cboscher/anaconda3/envs/cati_env/lib/python3.8/site-packages (from wandb->simpletransformers) (1.0.0)\n",
      "Requirement already satisfied: subprocess32>=3.5.3 in /home/cboscher/anaconda3/envs/cati_env/lib/python3.8/site-packages (from wandb->simpletransformers) (3.5.4)\n",
      "Requirement already satisfied: configparser>=3.8.1 in /home/cboscher/anaconda3/envs/cati_env/lib/python3.8/site-packages (from wandb->simpletransformers) (5.0.2)\n",
      "Requirement already satisfied: PyYAML in /home/cboscher/anaconda3/envs/cati_env/lib/python3.8/site-packages (from wandb->simpletransformers) (5.4.1)\n",
      "Requirement already satisfied: pathtools in /home/cboscher/anaconda3/envs/cati_env/lib/python3.8/site-packages (from wandb->simpletransformers) (0.1.2)\n",
      "Requirement already satisfied: docker-pycreds>=0.4.0 in /home/cboscher/anaconda3/envs/cati_env/lib/python3.8/site-packages (from wandb->simpletransformers) (0.4.0)\n",
      "Requirement already satisfied: shortuuid>=0.5.0 in /home/cboscher/anaconda3/envs/cati_env/lib/python3.8/site-packages (from wandb->simpletransformers) (1.0.1)\n",
      "Installing collected packages: tqdm\n",
      "  Attempting uninstall: tqdm\n",
      "    Found existing installation: tqdm 4.41.1\n",
      "    Uninstalling tqdm-4.41.1:\n",
      "      Successfully uninstalled tqdm-4.41.1\n",
      "\u001b[31mERROR: pip's dependency resolver does not currently take into account all the packages that are installed. This behaviour is the source of the following dependency conflicts.\n",
      "fast-bert 1.9.7 requires tokenizers==0.8.1.rc1, but you have tokenizers 0.10.1 which is incompatible.\n",
      "fast-bert 1.9.7 requires transformers==3.0.2, but you have transformers 4.4.2 which is incompatible.\u001b[0m\n",
      "Successfully installed tqdm-4.49.0\n",
      "Requirement already satisfied: bs4 in /home/cboscher/anaconda3/envs/cati_env/lib/python3.8/site-packages (0.0.1)\n",
      "Requirement already satisfied: beautifulsoup4 in /home/cboscher/anaconda3/envs/cati_env/lib/python3.8/site-packages (from bs4) (4.9.3)\n",
      "Requirement already satisfied: soupsieve>1.2 in /home/cboscher/anaconda3/envs/cati_env/lib/python3.8/site-packages (from beautifulsoup4->bs4) (2.2.1)\n",
      "Requirement already satisfied: lxml in /home/cboscher/anaconda3/envs/cati_env/lib/python3.8/site-packages (4.6.3)\n",
      "Requirement already satisfied: tensorflow-gpu in /home/cboscher/anaconda3/envs/cati_env/lib/python3.8/site-packages (2.4.1)\n",
      "Requirement already satisfied: google-pasta~=0.2 in /home/cboscher/anaconda3/envs/cati_env/lib/python3.8/site-packages (from tensorflow-gpu) (0.2.0)\n",
      "Requirement already satisfied: wheel~=0.35 in /home/cboscher/anaconda3/envs/cati_env/lib/python3.8/site-packages (from tensorflow-gpu) (0.36.2)\n",
      "Requirement already satisfied: h5py~=2.10.0 in /home/cboscher/anaconda3/envs/cati_env/lib/python3.8/site-packages (from tensorflow-gpu) (2.10.0)\n",
      "Requirement already satisfied: numpy~=1.19.2 in /home/cboscher/anaconda3/envs/cati_env/lib/python3.8/site-packages (from tensorflow-gpu) (1.19.5)\n",
      "Requirement already satisfied: termcolor~=1.1.0 in /home/cboscher/anaconda3/envs/cati_env/lib/python3.8/site-packages (from tensorflow-gpu) (1.1.0)\n",
      "Requirement already satisfied: wrapt~=1.12.1 in /home/cboscher/anaconda3/envs/cati_env/lib/python3.8/site-packages (from tensorflow-gpu) (1.12.1)\n",
      "Requirement already satisfied: gast==0.3.3 in /home/cboscher/anaconda3/envs/cati_env/lib/python3.8/site-packages (from tensorflow-gpu) (0.3.3)\n",
      "Requirement already satisfied: typing-extensions~=3.7.4 in /home/cboscher/anaconda3/envs/cati_env/lib/python3.8/site-packages (from tensorflow-gpu) (3.7.4.3)\n",
      "Requirement already satisfied: flatbuffers~=1.12.0 in /home/cboscher/anaconda3/envs/cati_env/lib/python3.8/site-packages (from tensorflow-gpu) (1.12)\n",
      "Requirement already satisfied: keras-preprocessing~=1.1.2 in /home/cboscher/anaconda3/envs/cati_env/lib/python3.8/site-packages (from tensorflow-gpu) (1.1.2)\n",
      "Requirement already satisfied: tensorflow-estimator<2.5.0,>=2.4.0 in /home/cboscher/anaconda3/envs/cati_env/lib/python3.8/site-packages (from tensorflow-gpu) (2.4.0)\n",
      "Requirement already satisfied: absl-py~=0.10 in /home/cboscher/anaconda3/envs/cati_env/lib/python3.8/site-packages (from tensorflow-gpu) (0.12.0)\n",
      "Requirement already satisfied: six~=1.15.0 in /home/cboscher/anaconda3/envs/cati_env/lib/python3.8/site-packages (from tensorflow-gpu) (1.15.0)\n",
      "Requirement already satisfied: tensorboard~=2.4 in /home/cboscher/anaconda3/envs/cati_env/lib/python3.8/site-packages (from tensorflow-gpu) (2.4.1)\n",
      "Requirement already satisfied: grpcio~=1.32.0 in /home/cboscher/anaconda3/envs/cati_env/lib/python3.8/site-packages (from tensorflow-gpu) (1.32.0)\n",
      "Requirement already satisfied: opt-einsum~=3.3.0 in /home/cboscher/anaconda3/envs/cati_env/lib/python3.8/site-packages (from tensorflow-gpu) (3.3.0)\n",
      "Requirement already satisfied: astunparse~=1.6.3 in /home/cboscher/anaconda3/envs/cati_env/lib/python3.8/site-packages (from tensorflow-gpu) (1.6.3)\n",
      "Requirement already satisfied: protobuf>=3.9.2 in /home/cboscher/anaconda3/envs/cati_env/lib/python3.8/site-packages (from tensorflow-gpu) (3.15.6)\n",
      "Requirement already satisfied: tensorboard-plugin-wit>=1.6.0 in /home/cboscher/anaconda3/envs/cati_env/lib/python3.8/site-packages (from tensorboard~=2.4->tensorflow-gpu) (1.8.0)\n",
      "Requirement already satisfied: markdown>=2.6.8 in /home/cboscher/anaconda3/envs/cati_env/lib/python3.8/site-packages (from tensorboard~=2.4->tensorflow-gpu) (3.3.4)\n",
      "Requirement already satisfied: google-auth<2,>=1.6.3 in /home/cboscher/anaconda3/envs/cati_env/lib/python3.8/site-packages (from tensorboard~=2.4->tensorflow-gpu) (1.28.0)\n",
      "Requirement already satisfied: requests<3,>=2.21.0 in /home/cboscher/anaconda3/envs/cati_env/lib/python3.8/site-packages (from tensorboard~=2.4->tensorflow-gpu) (2.25.1)\n",
      "Requirement already satisfied: setuptools>=41.0.0 in /home/cboscher/anaconda3/envs/cati_env/lib/python3.8/site-packages (from tensorboard~=2.4->tensorflow-gpu) (52.0.0.post20210125)\n",
      "Requirement already satisfied: werkzeug>=0.11.15 in /home/cboscher/anaconda3/envs/cati_env/lib/python3.8/site-packages (from tensorboard~=2.4->tensorflow-gpu) (1.0.1)\n",
      "Requirement already satisfied: google-auth-oauthlib<0.5,>=0.4.1 in /home/cboscher/anaconda3/envs/cati_env/lib/python3.8/site-packages (from tensorboard~=2.4->tensorflow-gpu) (0.4.4)\n",
      "Requirement already satisfied: cachetools<5.0,>=2.0.0 in /home/cboscher/anaconda3/envs/cati_env/lib/python3.8/site-packages (from google-auth<2,>=1.6.3->tensorboard~=2.4->tensorflow-gpu) (4.2.1)\n",
      "Requirement already satisfied: pyasn1-modules>=0.2.1 in /home/cboscher/anaconda3/envs/cati_env/lib/python3.8/site-packages (from google-auth<2,>=1.6.3->tensorboard~=2.4->tensorflow-gpu) (0.2.8)\n",
      "Requirement already satisfied: rsa<5,>=3.1.4 in /home/cboscher/anaconda3/envs/cati_env/lib/python3.8/site-packages (from google-auth<2,>=1.6.3->tensorboard~=2.4->tensorflow-gpu) (4.7.2)\n",
      "Requirement already satisfied: requests-oauthlib>=0.7.0 in /home/cboscher/anaconda3/envs/cati_env/lib/python3.8/site-packages (from google-auth-oauthlib<0.5,>=0.4.1->tensorboard~=2.4->tensorflow-gpu) (1.3.0)\n",
      "Requirement already satisfied: pyasn1<0.5.0,>=0.4.6 in /home/cboscher/anaconda3/envs/cati_env/lib/python3.8/site-packages (from pyasn1-modules>=0.2.1->google-auth<2,>=1.6.3->tensorboard~=2.4->tensorflow-gpu) (0.4.8)\n",
      "Requirement already satisfied: urllib3<1.27,>=1.21.1 in /home/cboscher/anaconda3/envs/cati_env/lib/python3.8/site-packages (from requests<3,>=2.21.0->tensorboard~=2.4->tensorflow-gpu) (1.26.4)\n",
      "Requirement already satisfied: chardet<5,>=3.0.2 in /home/cboscher/anaconda3/envs/cati_env/lib/python3.8/site-packages (from requests<3,>=2.21.0->tensorboard~=2.4->tensorflow-gpu) (4.0.0)\n",
      "Requirement already satisfied: certifi>=2017.4.17 in /home/cboscher/anaconda3/envs/cati_env/lib/python3.8/site-packages (from requests<3,>=2.21.0->tensorboard~=2.4->tensorflow-gpu) (2020.6.20)\n",
      "Requirement already satisfied: idna<3,>=2.5 in /home/cboscher/anaconda3/envs/cati_env/lib/python3.8/site-packages (from requests<3,>=2.21.0->tensorboard~=2.4->tensorflow-gpu) (2.10)\n",
      "Requirement already satisfied: oauthlib>=3.0.0 in /home/cboscher/anaconda3/envs/cati_env/lib/python3.8/site-packages (from requests-oauthlib>=0.7.0->google-auth-oauthlib<0.5,>=0.4.1->tensorboard~=2.4->tensorflow-gpu) (3.1.0)\n"
     ]
    },
    {
     "name": "stdout",
     "output_type": "stream",
     "text": [
      "Requirement already satisfied: tensorflow==2.4.1 in /home/cboscher/anaconda3/envs/cati_env/lib/python3.8/site-packages (2.4.1)\n",
      "Requirement already satisfied: tensorflow-estimator<2.5.0,>=2.4.0 in /home/cboscher/anaconda3/envs/cati_env/lib/python3.8/site-packages (from tensorflow==2.4.1) (2.4.0)\n",
      "Requirement already satisfied: keras-preprocessing~=1.1.2 in /home/cboscher/anaconda3/envs/cati_env/lib/python3.8/site-packages (from tensorflow==2.4.1) (1.1.2)\n",
      "Requirement already satisfied: google-pasta~=0.2 in /home/cboscher/anaconda3/envs/cati_env/lib/python3.8/site-packages (from tensorflow==2.4.1) (0.2.0)\n",
      "Requirement already satisfied: typing-extensions~=3.7.4 in /home/cboscher/anaconda3/envs/cati_env/lib/python3.8/site-packages (from tensorflow==2.4.1) (3.7.4.3)\n",
      "Requirement already satisfied: h5py~=2.10.0 in /home/cboscher/anaconda3/envs/cati_env/lib/python3.8/site-packages (from tensorflow==2.4.1) (2.10.0)\n",
      "Requirement already satisfied: grpcio~=1.32.0 in /home/cboscher/anaconda3/envs/cati_env/lib/python3.8/site-packages (from tensorflow==2.4.1) (1.32.0)\n",
      "Requirement already satisfied: tensorboard~=2.4 in /home/cboscher/anaconda3/envs/cati_env/lib/python3.8/site-packages (from tensorflow==2.4.1) (2.4.1)\n",
      "Requirement already satisfied: wheel~=0.35 in /home/cboscher/anaconda3/envs/cati_env/lib/python3.8/site-packages (from tensorflow==2.4.1) (0.36.2)\n",
      "Requirement already satisfied: numpy~=1.19.2 in /home/cboscher/anaconda3/envs/cati_env/lib/python3.8/site-packages (from tensorflow==2.4.1) (1.19.5)\n",
      "Requirement already satisfied: termcolor~=1.1.0 in /home/cboscher/anaconda3/envs/cati_env/lib/python3.8/site-packages (from tensorflow==2.4.1) (1.1.0)\n",
      "Requirement already satisfied: absl-py~=0.10 in /home/cboscher/anaconda3/envs/cati_env/lib/python3.8/site-packages (from tensorflow==2.4.1) (0.12.0)\n",
      "Requirement already satisfied: gast==0.3.3 in /home/cboscher/anaconda3/envs/cati_env/lib/python3.8/site-packages (from tensorflow==2.4.1) (0.3.3)\n",
      "Requirement already satisfied: opt-einsum~=3.3.0 in /home/cboscher/anaconda3/envs/cati_env/lib/python3.8/site-packages (from tensorflow==2.4.1) (3.3.0)\n",
      "Requirement already satisfied: astunparse~=1.6.3 in /home/cboscher/anaconda3/envs/cati_env/lib/python3.8/site-packages (from tensorflow==2.4.1) (1.6.3)\n",
      "Requirement already satisfied: protobuf>=3.9.2 in /home/cboscher/anaconda3/envs/cati_env/lib/python3.8/site-packages (from tensorflow==2.4.1) (3.15.6)\n",
      "Requirement already satisfied: wrapt~=1.12.1 in /home/cboscher/anaconda3/envs/cati_env/lib/python3.8/site-packages (from tensorflow==2.4.1) (1.12.1)\n",
      "Requirement already satisfied: flatbuffers~=1.12.0 in /home/cboscher/anaconda3/envs/cati_env/lib/python3.8/site-packages (from tensorflow==2.4.1) (1.12)\n",
      "Requirement already satisfied: six~=1.15.0 in /home/cboscher/anaconda3/envs/cati_env/lib/python3.8/site-packages (from tensorflow==2.4.1) (1.15.0)\n",
      "Requirement already satisfied: markdown>=2.6.8 in /home/cboscher/anaconda3/envs/cati_env/lib/python3.8/site-packages (from tensorboard~=2.4->tensorflow==2.4.1) (3.3.4)\n",
      "Requirement already satisfied: google-auth<2,>=1.6.3 in /home/cboscher/anaconda3/envs/cati_env/lib/python3.8/site-packages (from tensorboard~=2.4->tensorflow==2.4.1) (1.28.0)\n",
      "Requirement already satisfied: google-auth-oauthlib<0.5,>=0.4.1 in /home/cboscher/anaconda3/envs/cati_env/lib/python3.8/site-packages (from tensorboard~=2.4->tensorflow==2.4.1) (0.4.4)\n",
      "Requirement already satisfied: requests<3,>=2.21.0 in /home/cboscher/anaconda3/envs/cati_env/lib/python3.8/site-packages (from tensorboard~=2.4->tensorflow==2.4.1) (2.25.1)\n",
      "Requirement already satisfied: setuptools>=41.0.0 in /home/cboscher/anaconda3/envs/cati_env/lib/python3.8/site-packages (from tensorboard~=2.4->tensorflow==2.4.1) (52.0.0.post20210125)\n",
      "Requirement already satisfied: tensorboard-plugin-wit>=1.6.0 in /home/cboscher/anaconda3/envs/cati_env/lib/python3.8/site-packages (from tensorboard~=2.4->tensorflow==2.4.1) (1.8.0)\n",
      "Requirement already satisfied: werkzeug>=0.11.15 in /home/cboscher/anaconda3/envs/cati_env/lib/python3.8/site-packages (from tensorboard~=2.4->tensorflow==2.4.1) (1.0.1)\n",
      "Requirement already satisfied: rsa<5,>=3.1.4 in /home/cboscher/anaconda3/envs/cati_env/lib/python3.8/site-packages (from google-auth<2,>=1.6.3->tensorboard~=2.4->tensorflow==2.4.1) (4.7.2)\n",
      "Requirement already satisfied: pyasn1-modules>=0.2.1 in /home/cboscher/anaconda3/envs/cati_env/lib/python3.8/site-packages (from google-auth<2,>=1.6.3->tensorboard~=2.4->tensorflow==2.4.1) (0.2.8)\n",
      "Requirement already satisfied: cachetools<5.0,>=2.0.0 in /home/cboscher/anaconda3/envs/cati_env/lib/python3.8/site-packages (from google-auth<2,>=1.6.3->tensorboard~=2.4->tensorflow==2.4.1) (4.2.1)\n",
      "Requirement already satisfied: requests-oauthlib>=0.7.0 in /home/cboscher/anaconda3/envs/cati_env/lib/python3.8/site-packages (from google-auth-oauthlib<0.5,>=0.4.1->tensorboard~=2.4->tensorflow==2.4.1) (1.3.0)\n",
      "Requirement already satisfied: pyasn1<0.5.0,>=0.4.6 in /home/cboscher/anaconda3/envs/cati_env/lib/python3.8/site-packages (from pyasn1-modules>=0.2.1->google-auth<2,>=1.6.3->tensorboard~=2.4->tensorflow==2.4.1) (0.4.8)\n",
      "Requirement already satisfied: certifi>=2017.4.17 in /home/cboscher/anaconda3/envs/cati_env/lib/python3.8/site-packages (from requests<3,>=2.21.0->tensorboard~=2.4->tensorflow==2.4.1) (2020.6.20)\n",
      "Requirement already satisfied: idna<3,>=2.5 in /home/cboscher/anaconda3/envs/cati_env/lib/python3.8/site-packages (from requests<3,>=2.21.0->tensorboard~=2.4->tensorflow==2.4.1) (2.10)\n",
      "Requirement already satisfied: urllib3<1.27,>=1.21.1 in /home/cboscher/anaconda3/envs/cati_env/lib/python3.8/site-packages (from requests<3,>=2.21.0->tensorboard~=2.4->tensorflow==2.4.1) (1.26.4)\n",
      "Requirement already satisfied: chardet<5,>=3.0.2 in /home/cboscher/anaconda3/envs/cati_env/lib/python3.8/site-packages (from requests<3,>=2.21.0->tensorboard~=2.4->tensorflow==2.4.1) (4.0.0)\n",
      "Requirement already satisfied: oauthlib>=3.0.0 in /home/cboscher/anaconda3/envs/cati_env/lib/python3.8/site-packages (from requests-oauthlib>=0.7.0->google-auth-oauthlib<0.5,>=0.4.1->tensorboard~=2.4->tensorflow==2.4.1) (3.1.0)\n",
      "Collecting tqdm==4.41.1\n",
      "  Using cached tqdm-4.41.1-py2.py3-none-any.whl (56 kB)\n",
      "Installing collected packages: tqdm\n",
      "  Attempting uninstall: tqdm\n",
      "    Found existing installation: tqdm 4.49.0\n",
      "    Uninstalling tqdm-4.49.0:\n",
      "      Successfully uninstalled tqdm-4.49.0\n",
      "\u001b[31mERROR: pip's dependency resolver does not currently take into account all the packages that are installed. This behaviour is the source of the following dependency conflicts.\n",
      "simpletransformers 0.61.4 requires tqdm>=4.47.0, but you have tqdm 4.41.1 which is incompatible.\n",
      "fast-bert 1.9.7 requires tokenizers==0.8.1.rc1, but you have tokenizers 0.10.1 which is incompatible.\n",
      "fast-bert 1.9.7 requires transformers==3.0.2, but you have transformers 4.4.2 which is incompatible.\u001b[0m\n",
      "Successfully installed tqdm-4.41.1\n",
      "Collecting tokenizers==0.9.4\n",
      "  Using cached tokenizers-0.9.4-cp38-cp38-manylinux2010_x86_64.whl (2.9 MB)\n",
      "Installing collected packages: tokenizers\n",
      "  Attempting uninstall: tokenizers\n",
      "    Found existing installation: tokenizers 0.10.1\n",
      "    Uninstalling tokenizers-0.10.1:\n",
      "      Successfully uninstalled tokenizers-0.10.1\n",
      "\u001b[31mERROR: pip's dependency resolver does not currently take into account all the packages that are installed. This behaviour is the source of the following dependency conflicts.\n",
      "transformers 4.4.2 requires tokenizers<0.11,>=0.10.1, but you have tokenizers 0.9.4 which is incompatible.\n",
      "simpletransformers 0.61.4 requires tqdm>=4.47.0, but you have tqdm 4.41.1 which is incompatible.\n",
      "fast-bert 1.9.7 requires tokenizers==0.8.1.rc1, but you have tokenizers 0.9.4 which is incompatible.\n",
      "fast-bert 1.9.7 requires transformers==3.0.2, but you have transformers 4.4.2 which is incompatible.\u001b[0m\n",
      "Successfully installed tokenizers-0.9.4\n"
     ]
    }
   ],
   "source": [
    "#Add any needed library for installation\n",
    "!pip install sentencepiece\n",
    "!pip install hydra-core\n",
    "!pip install omegaconf\n",
    "!pip install simpletransformers\n",
    "!pip install bs4\n",
    "!pip install lxml\n",
    "!pip install tensorflow-gpu\n",
    "!pip install tensorflow==2.4.1\n",
    "!pip install tqdm==4.41.1\n",
    "!pip install tokenizers==0.9.4"
   ]
  },
  {
   "cell_type": "code",
   "execution_count": 1,
   "metadata": {
    "colab": {
     "base_uri": "https://localhost:8080/"
    },
    "executionInfo": {
     "elapsed": 1910,
     "status": "ok",
     "timestamp": 1611935916380,
     "user": {
      "displayName": "Amine Nahid",
      "photoUrl": "https://lh3.googleusercontent.com/a-/AOh14Gjta6xc2OIrod2QeIOzOwOxxvQJFxV96DdG1KCZsQ=s64",
      "userId": "01452933282173345619"
     },
     "user_tz": -60
    },
    "id": "EAAS2uUgvykg",
    "outputId": "b1d65f09-3401-45e7-c112-4ad1c16022a5"
   },
   "outputs": [
    {
     "output_type": "stream",
     "name": "stdout",
     "text": [
      "tensorflow              2.4.1\n",
      "tensorflow-estimator    2.4.0\n",
      "transformers            4.3.3\n"
     ]
    }
   ],
   "source": [
    "#verify library versions\n",
    "! pip list | grep \"tensorflow\"   # Check tensorflow==2.0.0, tensorflow-gpu==2.0.0\n",
    "! pip list | grep \"transformers\" # Check transformers>=2.0.0"
   ]
  },
  {
   "cell_type": "markdown",
   "metadata": {
    "id": "VzRPs-2jVSll"
   },
   "source": [
    "Before training our model, we scrap the main pages of a selection of newspapers in the same language and save all the links found in those pages and belong to the same website"
   ]
  },
  {
   "cell_type": "code",
   "execution_count": 4,
   "metadata": {
    "executionInfo": {
     "elapsed": 673,
     "status": "ok",
     "timestamp": 1611936154591,
     "user": {
      "displayName": "Amine Nahid",
      "photoUrl": "https://lh3.googleusercontent.com/a-/AOh14Gjta6xc2OIrod2QeIOzOwOxxvQJFxV96DdG1KCZsQ=s64",
      "userId": "01452933282173345619"
     },
     "user_tz": -60
    },
    "id": "fnOelj_bnOCO"
   },
   "outputs": [],
   "source": [
    "internal_urls = {}\n",
    "\n",
    "def is_valid(url):\n",
    "    \"\"\"\n",
    "    Checks whether `url` is a valid URL.\n",
    "    \"\"\"\n",
    "    parsed = urlparse(url)\n",
    "    return bool(parsed.netloc) and bool(parsed.scheme)\n",
    "\n",
    "def get_all_website_links(url):\n",
    "    \"\"\"\n",
    "    Returns all URLs that is found on `url` in which it belongs to the same website\n",
    "    \"\"\"\n",
    "    # all URLs of `url`\n",
    "    urls = set()\n",
    "    # domain name of the URL without the protocol\n",
    "    domain_name = urlparse(url).netloc\n",
    "    soup = BeautifulSoup(requests.get(url).content, \"html.parser\")\n",
    "    for a_tag in soup.findAll(\"a\"):\n",
    "        href = a_tag.attrs.get(\"href\")\n",
    "        if href == \"\" or href is None:\n",
    "            continue\n",
    "        href = urljoin(url, href)\n",
    "        parsed_href = urlparse(href)\n",
    "        href = parsed_href.scheme + \"://\" + parsed_href.netloc + parsed_href.path\n",
    "        \n",
    "        if not is_valid(href):\n",
    "        # not a valid URL\n",
    "            continue\n",
    "            \n",
    "        if href in internal_urls:\n",
    "            # already in the set\n",
    "            continue\n",
    "        \n",
    "        if domain_name not in href:\n",
    "            # external link\n",
    "            continue\n",
    "            \n",
    "        urls.add(href)\n",
    "        title = a_tag.getText().strip().lstrip()       \n",
    "        title = title.replace(';','')\n",
    "        title = title.replace('\"\"','')\n",
    "        title = title.replace(\"\\n\", \"\")\n",
    "        title = title.replace(\"\\t\", \"\")\n",
    "        if title == \"\" or title is None:\n",
    "            continue\n",
    "        internal_urls[title] = href\n",
    "        print(title + \";\" + href + \";\")\n",
    "\n",
    "    return internal_urls\n",
    "\n",
    "def write_in_csv(url_dict):\n",
    "    with open('url_prenote.csv', mode='a', encoding=\"utf-8\", newline='') as employee_file:\n",
    "        employee_writer = csv.writer(employee_file, delimiter=';')\n",
    "\n",
    "        for url in url_dict:\n",
    "            employee_writer.writerow([url, url_dict[url]])"
   ]
  },
  {
   "cell_type": "code",
   "execution_count": null,
   "metadata": {
    "executionInfo": {
     "elapsed": 627,
     "status": "ok",
     "timestamp": 1611936158352,
     "user": {
      "displayName": "Amine Nahid",
      "photoUrl": "https://lh3.googleusercontent.com/a-/AOh14Gjta6xc2OIrod2QeIOzOwOxxvQJFxV96DdG1KCZsQ=s64",
      "userId": "01452933282173345619"
     },
     "user_tz": -60
    },
    "id": "g7cfwvWQi97L"
   },
   "outputs": [],
   "source": [
    "#Choose the newspapers you want to work on\n",
    "url_inputs = {\n",
    "  \"20 Minutes\": \"https://www.20minutes.fr/\"\n",
    "}\n"
   ]
  },
  {
   "cell_type": "code",
   "execution_count": null,
   "metadata": {
    "colab": {
     "base_uri": "https://localhost:8080/"
    },
    "executionInfo": {
     "elapsed": 4429,
     "status": "ok",
     "timestamp": 1611936164578,
     "user": {
      "displayName": "Amine Nahid",
      "photoUrl": "https://lh3.googleusercontent.com/a-/AOh14Gjta6xc2OIrod2QeIOzOwOxxvQJFxV96DdG1KCZsQ=s64",
      "userId": "01452933282173345619"
     },
     "user_tz": -60
    },
    "id": "vkqb_MfKjAOS",
    "outputId": "ace80131-4619-4d13-e152-2fe890db1f50"
   },
   "outputs": [],
   "source": [
    "for url in url_inputs:\n",
    "    write_in_csv(get_all_website_links(url_inputs.get(url)))"
   ]
  },
  {
   "cell_type": "markdown",
   "metadata": {
    "id": "K3CcjA3SXZFA"
   },
   "source": [
    "##Corpus annotation\n",
    "Before training the BERT model, we must have an annotated corpus. The annotation task is to be done manually. However, some heuristics might help shorten the labelling process.\n",
    "For instance, we might consider any four-word-long or longer title to be indeed an article title, whereas shorter articles are not. This is of course to be checked and corrected manually. "
   ]
  },
  {
   "cell_type": "code",
   "execution_count": null,
   "metadata": {
    "executionInfo": {
     "elapsed": 588,
     "status": "ok",
     "timestamp": 1611936172228,
     "user": {
      "displayName": "Amine Nahid",
      "photoUrl": "https://lh3.googleusercontent.com/a-/AOh14Gjta6xc2OIrod2QeIOzOwOxxvQJFxV96DdG1KCZsQ=s64",
      "userId": "01452933282173345619"
     },
     "user_tz": -60
    },
    "id": "JujlYt8KJcEY"
   },
   "outputs": [],
   "source": [
    "import pandas as pd\n",
    "df_annote=pd.read_csv('url_prenote.csv', sep=';',header=None)\n",
    "\n",
    "df_annote = df_annote.replace('\\n','', regex=True) \n",
    "df_annote = df_annote.fillna(0)\n",
    "\n",
    "df_annote[2]=0"
   ]
  },
  {
   "cell_type": "code",
   "execution_count": null,
   "metadata": {},
   "outputs": [],
   "source": [
    "df_annote"
   ]
  },
  {
   "cell_type": "code",
   "execution_count": null,
   "metadata": {
    "colab": {
     "base_uri": "https://localhost:8080/",
     "height": 597
    },
    "executionInfo": {
     "elapsed": 865,
     "status": "ok",
     "timestamp": 1611936175306,
     "user": {
      "displayName": "Amine Nahid",
      "photoUrl": "https://lh3.googleusercontent.com/a-/AOh14Gjta6xc2OIrod2QeIOzOwOxxvQJFxV96DdG1KCZsQ=s64",
      "userId": "01452933282173345619"
     },
     "user_tz": -60
    },
    "id": "VifVRsROJcEZ",
    "outputId": "156bc860-ab14-4aa7-b539-d8ec33da3f7b"
   },
   "outputs": [],
   "source": [
    "df_annote.columns = ['title', 'link', 'prediction']\n",
    "df_annote['prediction'] = df_annote['title'].apply(lambda x: 1 if len(x.split()) > 4 else 0)\n",
    "df_annote.loc[df_annote['prediction'] ==1]"
   ]
  },
  {
   "cell_type": "code",
   "execution_count": null,
   "metadata": {},
   "outputs": [],
   "source": [
    "df_annote"
   ]
  },
  {
   "cell_type": "code",
   "execution_count": null,
   "metadata": {},
   "outputs": [],
   "source": []
  },
  {
   "cell_type": "code",
   "execution_count": null,
   "metadata": {
    "executionInfo": {
     "elapsed": 588,
     "status": "ok",
     "timestamp": 1611936284289,
     "user": {
      "displayName": "Amine Nahid",
      "photoUrl": "https://lh3.googleusercontent.com/a-/AOh14Gjta6xc2OIrod2QeIOzOwOxxvQJFxV96DdG1KCZsQ=s64",
      "userId": "01452933282173345619"
     },
     "user_tz": -60
    },
    "id": "dZcc9YbEeRz5"
   },
   "outputs": [],
   "source": [
    "df_annote.to_csv('url_noted.csv', index=False, sep=';')"
   ]
  },
  {
   "cell_type": "markdown",
   "metadata": {
    "id": "riEma1LhXaRo"
   },
   "source": [
    "##Annotated corpus import and quick check"
   ]
  },
  {
   "cell_type": "code",
   "execution_count": 5,
   "metadata": {
    "colab": {
     "base_uri": "https://localhost:8080/",
     "height": 458
    },
    "executionInfo": {
     "elapsed": 933,
     "status": "ok",
     "timestamp": 1611936287500,
     "user": {
      "displayName": "Amine Nahid",
      "photoUrl": "https://lh3.googleusercontent.com/a-/AOh14Gjta6xc2OIrod2QeIOzOwOxxvQJFxV96DdG1KCZsQ=s64",
      "userId": "01452933282173345619"
     },
     "user_tz": -60
    },
    "id": "ra1uOAs-nWBg",
    "outputId": "56bbbf85-700c-4af1-8687-66a32630f7d9"
   },
   "outputs": [],
   "source": [
    "import pandas as pd\n",
    "df=pd.read_csv('url_noted.csv', sep=';')\n",
    "\n",
    "df = df.replace('\\n','', regex=True) \n",
    "df = df.fillna(0)"
   ]
  },
  {
   "cell_type": "code",
   "execution_count": 6,
   "metadata": {},
   "outputs": [
    {
     "data": {
      "text/html": [
       "<div>\n",
       "<style scoped>\n",
       "    .dataframe tbody tr th:only-of-type {\n",
       "        vertical-align: middle;\n",
       "    }\n",
       "\n",
       "    .dataframe tbody tr th {\n",
       "        vertical-align: top;\n",
       "    }\n",
       "\n",
       "    .dataframe thead th {\n",
       "        text-align: right;\n",
       "    }\n",
       "</style>\n",
       "<table border=\"1\" class=\"dataframe\">\n",
       "  <thead>\n",
       "    <tr style=\"text-align: right;\">\n",
       "      <th></th>\n",
       "      <th>title</th>\n",
       "      <th>link</th>\n",
       "      <th>prediction</th>\n",
       "    </tr>\n",
       "  </thead>\n",
       "  <tbody>\n",
       "    <tr>\n",
       "      <th>0</th>\n",
       "      <td>Aller au contenu</td>\n",
       "      <td>https://www.lefigaro.fr/</td>\n",
       "      <td>0</td>\n",
       "    </tr>\n",
       "    <tr>\n",
       "      <th>1</th>\n",
       "      <td>Politique</td>\n",
       "      <td>https://www.lefigaro.fr/politique</td>\n",
       "      <td>0</td>\n",
       "    </tr>\n",
       "    <tr>\n",
       "      <th>2</th>\n",
       "      <td>International</td>\n",
       "      <td>https://www.lefigaro.fr/international</td>\n",
       "      <td>0</td>\n",
       "    </tr>\n",
       "    <tr>\n",
       "      <th>3</th>\n",
       "      <td>Société</td>\n",
       "      <td>https://www.lefigaro.fr/actualite-france</td>\n",
       "      <td>0</td>\n",
       "    </tr>\n",
       "    <tr>\n",
       "      <th>4</th>\n",
       "      <td>Vox</td>\n",
       "      <td>https://www.lefigaro.fr/vox</td>\n",
       "      <td>0</td>\n",
       "    </tr>\n",
       "    <tr>\n",
       "      <th>...</th>\n",
       "      <td>...</td>\n",
       "      <td>...</td>\n",
       "      <td>...</td>\n",
       "    </tr>\n",
       "    <tr>\n",
       "      <th>2535</th>\n",
       "      <td>Conditions générales et particulières</td>\n",
       "      <td>https://www.lesechos.fr/terms</td>\n",
       "      <td>0</td>\n",
       "    </tr>\n",
       "    <tr>\n",
       "      <th>2536</th>\n",
       "      <td>Charte éthique</td>\n",
       "      <td>https://www.lesechos.fr/ethical-code</td>\n",
       "      <td>0</td>\n",
       "    </tr>\n",
       "    <tr>\n",
       "      <th>2537</th>\n",
       "      <td>En direct</td>\n",
       "      <td>https://www.lesechos.fr/direct</td>\n",
       "      <td>0</td>\n",
       "    </tr>\n",
       "    <tr>\n",
       "      <th>2538</th>\n",
       "      <td>Thema</td>\n",
       "      <td>https://www.lesechos.fr/thema</td>\n",
       "      <td>0</td>\n",
       "    </tr>\n",
       "    <tr>\n",
       "      <th>2539</th>\n",
       "      <td>Les Echos</td>\n",
       "      <td>https://www.lesechos.fr/</td>\n",
       "      <td>0</td>\n",
       "    </tr>\n",
       "  </tbody>\n",
       "</table>\n",
       "<p>2540 rows × 3 columns</p>\n",
       "</div>"
      ],
      "text/plain": [
       "                                      title  \\\n",
       "0                          Aller au contenu   \n",
       "1                                 Politique   \n",
       "2                             International   \n",
       "3                                   Société   \n",
       "4                                       Vox   \n",
       "...                                     ...   \n",
       "2535  Conditions générales et particulières   \n",
       "2536                         Charte éthique   \n",
       "2537                              En direct   \n",
       "2538                                  Thema   \n",
       "2539                              Les Echos   \n",
       "\n",
       "                                          link  prediction  \n",
       "0                     https://www.lefigaro.fr/           0  \n",
       "1            https://www.lefigaro.fr/politique           0  \n",
       "2        https://www.lefigaro.fr/international           0  \n",
       "3     https://www.lefigaro.fr/actualite-france           0  \n",
       "4                  https://www.lefigaro.fr/vox           0  \n",
       "...                                        ...         ...  \n",
       "2535             https://www.lesechos.fr/terms           0  \n",
       "2536      https://www.lesechos.fr/ethical-code           0  \n",
       "2537            https://www.lesechos.fr/direct           0  \n",
       "2538             https://www.lesechos.fr/thema           0  \n",
       "2539                  https://www.lesechos.fr/           0  \n",
       "\n",
       "[2540 rows x 3 columns]"
      ]
     },
     "execution_count": 6,
     "metadata": {},
     "output_type": "execute_result"
    }
   ],
   "source": [
    "df"
   ]
  },
  {
   "cell_type": "code",
   "execution_count": null,
   "metadata": {
    "colab": {
     "base_uri": "https://localhost:8080/"
    },
    "executionInfo": {
     "elapsed": 581,
     "status": "ok",
     "timestamp": 1611936292815,
     "user": {
      "displayName": "Amine Nahid",
      "photoUrl": "https://lh3.googleusercontent.com/a-/AOh14Gjta6xc2OIrod2QeIOzOwOxxvQJFxV96DdG1KCZsQ=s64",
      "userId": "01452933282173345619"
     },
     "user_tz": -60
    },
    "id": "8vZXgQgvWzBc",
    "outputId": "27c07703-4698-4422-964b-807e092916a4"
   },
   "outputs": [],
   "source": [
    "df.columns = ['title', 'link', 'prediction']\n",
    "df['title']"
   ]
  },
  {
   "cell_type": "code",
   "execution_count": null,
   "metadata": {},
   "outputs": [],
   "source": [
    "from os import walk, path"
   ]
  },
  {
   "cell_type": "code",
   "execution_count": null,
   "metadata": {},
   "outputs": [],
   "source": [
    "datasets = {}\n",
    "\n",
    "directory_path = \"/home/cedric/Projet_LIVRONS/psat-elod-add_param_intput_output_interval/PSAT-master/PSAT-master/test_scrapper_outputs/aggs_annotated_fr\"\n",
    "_, _, filenames = next(walk(directory_path))\n",
    "\n",
    "n_sources = 7\n",
    "sources_count = 0\n",
    "\n",
    "dfs = []\n",
    "for filename in filenames:\n",
    "    \n",
    "    if filename in ['aggs_output_11_Mediapart.csv', 'aggs_output_5_FranceInter.csv']:\n",
    "        continue\n",
    "        \n",
    "    sources_count+=1\n",
    "    print(filename)\n",
    "    file_path = path.join(directory_path, filename)\n",
    "    df = pd.read_csv(file_path, sep=\";\").iloc[2:].rename(columns={'Unnamed: 0': 'link'})\n",
    "    \n",
    "    renamed_df = df[['title','link', 'annotated_class']].rename(columns={'annotated_class':'prediction'})\n",
    "    dfs.append(renamed_df)\n",
    "                                                                \n",
    "    if sources_count == n_sources:\n",
    "        break\n",
    "        \n",
    "    \n",
    "                                                                \n",
    "df = pd.concat(dfs)\n",
    "df['prediction']=df['prediction'].astype('float')"
   ]
  },
  {
   "cell_type": "code",
   "execution_count": null,
   "metadata": {},
   "outputs": [],
   "source": [
    "df"
   ]
  },
  {
   "cell_type": "markdown",
   "metadata": {
    "id": "y6pUeWQ6oEGd"
   },
   "source": [
    "#Model training"
   ]
  },
  {
   "cell_type": "code",
   "execution_count": 5,
   "metadata": {
    "colab": {
     "base_uri": "https://localhost:8080/",
     "height": 166,
     "referenced_widgets": [
      "af7570f9279140adb34d86bcbade0287",
      "299fe7770342452e94d062195a2a8d2b",
      "afbbe84edab847a7a4752e3a932afa32",
      "03214b4960a545eb9a5dac203eae0fe9",
      "48a8955ab3e949ac908c038e7433ff84",
      "53343e825889490aa880c8e8d810f00f",
      "937982e6c91d48fdbf1e0333b7878728",
      "bee34fa1b53a4543a0688bbbc233cd5d",
      "9051c64a16c14ba4a4d3b80b8fc4df08",
      "d417c8f6c181421090e142f2c21a490f",
      "96a9f35f50f54a50ae69037e37a661ed",
      "d8b187b63eef43d89e8a27b14c1414a2",
      "1a15be6d2f084b7788dcc88148037502",
      "d8afb1027d38424f93f8194f8fba5d8e",
      "6d91437c35934f5aaee691efc119317a",
      "5f4c92cba6714290862b447823bbda66",
      "a7f2e013b7f14f7e846a2467c4fa7e2d",
      "c1396bc42e7d4ec394d68d2daec165e4",
      "0e65c5135dad424da6a5c257c53ac345",
      "a3d3a99af37d45e5965882e7b72b38fc",
      "384c713b6aec4679abd0a97190bb4f56",
      "795febc594ad459581df822f77fa5a08",
      "f22de86b7a324a7aabce9d0e225aaa10",
      "76af9d0c897649afa415dd51b219d124"
     ]
    },
    "executionInfo": {
     "elapsed": 3139,
     "status": "ok",
     "timestamp": 1611936351408,
     "user": {
      "displayName": "Amine Nahid",
      "photoUrl": "https://lh3.googleusercontent.com/a-/AOh14Gjta6xc2OIrod2QeIOzOwOxxvQJFxV96DdG1KCZsQ=s64",
      "userId": "01452933282173345619"
     },
     "user_tz": -60
    },
    "id": "-1CSo21opz40",
    "outputId": "e4ffc0a9-d972-4ad8-b2ba-32b87eb8a4ce"
   },
   "outputs": [
    {
     "output_type": "error",
     "ename": "NameError",
     "evalue": "name 'DistilBertTokenizerFast' is not defined",
     "traceback": [
      "\u001b[0;31m---------------------------------------------------------------------------\u001b[0m",
      "\u001b[0;31mNameError\u001b[0m                                 Traceback (most recent call last)",
      "\u001b[0;32m<ipython-input-5-22a68b8e3493>\u001b[0m in \u001b[0;36m<module>\u001b[0;34m\u001b[0m\n\u001b[0;32m----> 1\u001b[0;31m \u001b[0mtokenizer\u001b[0m \u001b[0;34m=\u001b[0m \u001b[0mDistilBertTokenizerFast\u001b[0m\u001b[0;34m.\u001b[0m\u001b[0mfrom_pretrained\u001b[0m\u001b[0;34m(\u001b[0m\u001b[0;34m'bert-base-multilingual-cased'\u001b[0m\u001b[0;34m)\u001b[0m\u001b[0;34m\u001b[0m\u001b[0;34m\u001b[0m\u001b[0m\n\u001b[0m",
      "\u001b[0;31mNameError\u001b[0m: name 'DistilBertTokenizerFast' is not defined"
     ]
    }
   ],
   "source": [
    "tokenizer = DistilBertTokenizerFast.from_pretrained('bert-base-multilingual-cased')"
   ]
  },
  {
   "cell_type": "code",
   "execution_count": 12,
   "metadata": {
    "colab": {
     "base_uri": "https://localhost:8080/"
    },
    "executionInfo": {
     "elapsed": 3204,
     "status": "ok",
     "timestamp": 1611936361971,
     "user": {
      "displayName": "Amine Nahid",
      "photoUrl": "https://lh3.googleusercontent.com/a-/AOh14Gjta6xc2OIrod2QeIOzOwOxxvQJFxV96DdG1KCZsQ=s64",
      "userId": "01452933282173345619"
     },
     "user_tz": -60
    },
    "id": "dG_TQ0n6ntqO",
    "outputId": "a76ab6df-d7d2-4c62-a26c-6a5d4cdb41b1"
   },
   "outputs": [
    {
     "ename": "ValueError",
     "evalue": "Failed to convert a NumPy array to a Tensor (Unsupported object type int).",
     "output_type": "error",
     "traceback": [
      "\u001b[0;31m---------------------------------------------------------------------------\u001b[0m",
      "\u001b[0;31mTypeError\u001b[0m                                 Traceback (most recent call last)",
      "\u001b[0;32m~/anaconda3/envs/cati_env/lib/python3.8/site-packages/tensorflow/python/data/util/structure.py\u001b[0m in \u001b[0;36mnormalize_element\u001b[0;34m(element, element_signature)\u001b[0m\n\u001b[1;32m    105\u001b[0m         \u001b[0;32mif\u001b[0m \u001b[0mspec\u001b[0m \u001b[0;32mis\u001b[0m \u001b[0;32mNone\u001b[0m\u001b[0;34m:\u001b[0m\u001b[0;34m\u001b[0m\u001b[0;34m\u001b[0m\u001b[0m\n\u001b[0;32m--> 106\u001b[0;31m           \u001b[0mspec\u001b[0m \u001b[0;34m=\u001b[0m \u001b[0mtype_spec_from_value\u001b[0m\u001b[0;34m(\u001b[0m\u001b[0mt\u001b[0m\u001b[0;34m,\u001b[0m \u001b[0muse_fallback\u001b[0m\u001b[0;34m=\u001b[0m\u001b[0;32mFalse\u001b[0m\u001b[0;34m)\u001b[0m\u001b[0;34m\u001b[0m\u001b[0;34m\u001b[0m\u001b[0m\n\u001b[0m\u001b[1;32m    107\u001b[0m       \u001b[0;32mexcept\u001b[0m \u001b[0mTypeError\u001b[0m\u001b[0;34m:\u001b[0m\u001b[0;34m\u001b[0m\u001b[0;34m\u001b[0m\u001b[0m\n",
      "\u001b[0;32m~/anaconda3/envs/cati_env/lib/python3.8/site-packages/tensorflow/python/data/util/structure.py\u001b[0m in \u001b[0;36mtype_spec_from_value\u001b[0;34m(element, use_fallback)\u001b[0m\n\u001b[1;32m    478\u001b[0m \u001b[0;34m\u001b[0m\u001b[0m\n\u001b[0;32m--> 479\u001b[0;31m   raise TypeError(\"Could not build a TypeSpec for %r with type %s\" %\n\u001b[0m\u001b[1;32m    480\u001b[0m                   (element, type(element).__name__))\n",
      "\u001b[0;31mTypeError\u001b[0m: Could not build a TypeSpec for                                                   title  \\\n1554  Baskets : Jusqu'à -70% sur les modèles Nike, A...   \n1615  Covid-19: où se trouvent les usines qui produi...   \n\n                                                   link  prediction  \n1554  https://www.leparisien.fr/guide-shopping/conso...           1  \n1615  https://www.lefigaro.fr/societes/covid-19-quel...           1   with type DataFrame",
      "\nDuring handling of the above exception, another exception occurred:\n",
      "\u001b[0;31mValueError\u001b[0m                                Traceback (most recent call last)",
      "\u001b[0;32m<ipython-input-12-b807100dd6a4>\u001b[0m in \u001b[0;36m<module>\u001b[0;34m\u001b[0m\n\u001b[1;32m     10\u001b[0m \u001b[0mval_encodings\u001b[0m \u001b[0;34m=\u001b[0m \u001b[0mtokenizer\u001b[0m\u001b[0;34m(\u001b[0m\u001b[0mvalidation_sentences\u001b[0m\u001b[0;34m.\u001b[0m\u001b[0mtolist\u001b[0m\u001b[0;34m(\u001b[0m\u001b[0;34m)\u001b[0m\u001b[0;34m,\u001b[0m\u001b[0mtruncation\u001b[0m\u001b[0;34m=\u001b[0m\u001b[0;32mTrue\u001b[0m\u001b[0;34m,\u001b[0m\u001b[0mpadding\u001b[0m\u001b[0;34m=\u001b[0m\u001b[0;32mTrue\u001b[0m\u001b[0;34m)\u001b[0m\u001b[0;34m\u001b[0m\u001b[0;34m\u001b[0m\u001b[0m\n\u001b[1;32m     11\u001b[0m \u001b[0;34m\u001b[0m\u001b[0m\n\u001b[0;32m---> 12\u001b[0;31m \u001b[0mtrain_dataset\u001b[0m \u001b[0;34m=\u001b[0m \u001b[0mtf\u001b[0m\u001b[0;34m.\u001b[0m\u001b[0mdata\u001b[0m\u001b[0;34m.\u001b[0m\u001b[0mDataset\u001b[0m\u001b[0;34m.\u001b[0m\u001b[0mfrom_tensor_slices\u001b[0m\u001b[0;34m(\u001b[0m\u001b[0;34m(\u001b[0m\u001b[0mdict\u001b[0m\u001b[0;34m(\u001b[0m\u001b[0mtrain_encodings\u001b[0m\u001b[0;34m)\u001b[0m\u001b[0;34m,\u001b[0m\u001b[0mtraining_labels\u001b[0m\u001b[0;34m)\u001b[0m\u001b[0;34m)\u001b[0m\u001b[0;34m\u001b[0m\u001b[0;34m\u001b[0m\u001b[0m\n\u001b[0m\u001b[1;32m     13\u001b[0m \u001b[0mval_dataset\u001b[0m \u001b[0;34m=\u001b[0m \u001b[0mtf\u001b[0m\u001b[0;34m.\u001b[0m\u001b[0mdata\u001b[0m\u001b[0;34m.\u001b[0m\u001b[0mDataset\u001b[0m\u001b[0;34m.\u001b[0m\u001b[0mfrom_tensor_slices\u001b[0m\u001b[0;34m(\u001b[0m\u001b[0;34m(\u001b[0m\u001b[0mdict\u001b[0m\u001b[0;34m(\u001b[0m\u001b[0mval_encodings\u001b[0m\u001b[0;34m)\u001b[0m\u001b[0;34m,\u001b[0m\u001b[0mvalidation_labels\u001b[0m\u001b[0;34m)\u001b[0m\u001b[0;34m)\u001b[0m\u001b[0;34m\u001b[0m\u001b[0;34m\u001b[0m\u001b[0m\n",
      "\u001b[0;32m~/anaconda3/envs/cati_env/lib/python3.8/site-packages/tensorflow/python/data/ops/dataset_ops.py\u001b[0m in \u001b[0;36mfrom_tensor_slices\u001b[0;34m(tensors)\u001b[0m\n\u001b[1;32m    689\u001b[0m       \u001b[0mDataset\u001b[0m\u001b[0;34m:\u001b[0m \u001b[0mA\u001b[0m\u001b[0;31m \u001b[0m\u001b[0;31m`\u001b[0m\u001b[0mDataset\u001b[0m\u001b[0;31m`\u001b[0m\u001b[0;34m.\u001b[0m\u001b[0;34m\u001b[0m\u001b[0;34m\u001b[0m\u001b[0m\n\u001b[1;32m    690\u001b[0m     \"\"\"\n\u001b[0;32m--> 691\u001b[0;31m     \u001b[0;32mreturn\u001b[0m \u001b[0mTensorSliceDataset\u001b[0m\u001b[0;34m(\u001b[0m\u001b[0mtensors\u001b[0m\u001b[0;34m)\u001b[0m\u001b[0;34m\u001b[0m\u001b[0;34m\u001b[0m\u001b[0m\n\u001b[0m\u001b[1;32m    692\u001b[0m \u001b[0;34m\u001b[0m\u001b[0m\n\u001b[1;32m    693\u001b[0m   \u001b[0;32mclass\u001b[0m \u001b[0m_GeneratorState\u001b[0m\u001b[0;34m(\u001b[0m\u001b[0mobject\u001b[0m\u001b[0;34m)\u001b[0m\u001b[0;34m:\u001b[0m\u001b[0;34m\u001b[0m\u001b[0;34m\u001b[0m\u001b[0m\n",
      "\u001b[0;32m~/anaconda3/envs/cati_env/lib/python3.8/site-packages/tensorflow/python/data/ops/dataset_ops.py\u001b[0m in \u001b[0;36m__init__\u001b[0;34m(self, element)\u001b[0m\n\u001b[1;32m   3153\u001b[0m   \u001b[0;32mdef\u001b[0m \u001b[0m__init__\u001b[0m\u001b[0;34m(\u001b[0m\u001b[0mself\u001b[0m\u001b[0;34m,\u001b[0m \u001b[0melement\u001b[0m\u001b[0;34m)\u001b[0m\u001b[0;34m:\u001b[0m\u001b[0;34m\u001b[0m\u001b[0;34m\u001b[0m\u001b[0m\n\u001b[1;32m   3154\u001b[0m     \u001b[0;34m\"\"\"See `Dataset.from_tensor_slices()` for details.\"\"\"\u001b[0m\u001b[0;34m\u001b[0m\u001b[0;34m\u001b[0m\u001b[0m\n\u001b[0;32m-> 3155\u001b[0;31m     \u001b[0melement\u001b[0m \u001b[0;34m=\u001b[0m \u001b[0mstructure\u001b[0m\u001b[0;34m.\u001b[0m\u001b[0mnormalize_element\u001b[0m\u001b[0;34m(\u001b[0m\u001b[0melement\u001b[0m\u001b[0;34m)\u001b[0m\u001b[0;34m\u001b[0m\u001b[0;34m\u001b[0m\u001b[0m\n\u001b[0m\u001b[1;32m   3156\u001b[0m     \u001b[0mbatched_spec\u001b[0m \u001b[0;34m=\u001b[0m \u001b[0mstructure\u001b[0m\u001b[0;34m.\u001b[0m\u001b[0mtype_spec_from_value\u001b[0m\u001b[0;34m(\u001b[0m\u001b[0melement\u001b[0m\u001b[0;34m)\u001b[0m\u001b[0;34m\u001b[0m\u001b[0;34m\u001b[0m\u001b[0m\n\u001b[1;32m   3157\u001b[0m     \u001b[0mself\u001b[0m\u001b[0;34m.\u001b[0m\u001b[0m_tensors\u001b[0m \u001b[0;34m=\u001b[0m \u001b[0mstructure\u001b[0m\u001b[0;34m.\u001b[0m\u001b[0mto_batched_tensor_list\u001b[0m\u001b[0;34m(\u001b[0m\u001b[0mbatched_spec\u001b[0m\u001b[0;34m,\u001b[0m \u001b[0melement\u001b[0m\u001b[0;34m)\u001b[0m\u001b[0;34m\u001b[0m\u001b[0;34m\u001b[0m\u001b[0m\n",
      "\u001b[0;32m~/anaconda3/envs/cati_env/lib/python3.8/site-packages/tensorflow/python/data/util/structure.py\u001b[0m in \u001b[0;36mnormalize_element\u001b[0;34m(element, element_signature)\u001b[0m\n\u001b[1;32m    109\u001b[0m         \u001b[0;31m# the value. As a fallback try converting the value to a tensor.\u001b[0m\u001b[0;34m\u001b[0m\u001b[0;34m\u001b[0m\u001b[0;34m\u001b[0m\u001b[0m\n\u001b[1;32m    110\u001b[0m         normalized_components.append(\n\u001b[0;32m--> 111\u001b[0;31m             ops.convert_to_tensor(t, name=\"component_%d\" % i))\n\u001b[0m\u001b[1;32m    112\u001b[0m       \u001b[0;32melse\u001b[0m\u001b[0;34m:\u001b[0m\u001b[0;34m\u001b[0m\u001b[0;34m\u001b[0m\u001b[0m\n\u001b[1;32m    113\u001b[0m         \u001b[0;32mif\u001b[0m \u001b[0misinstance\u001b[0m\u001b[0;34m(\u001b[0m\u001b[0mspec\u001b[0m\u001b[0;34m,\u001b[0m \u001b[0msparse_tensor\u001b[0m\u001b[0;34m.\u001b[0m\u001b[0mSparseTensorSpec\u001b[0m\u001b[0;34m)\u001b[0m\u001b[0;34m:\u001b[0m\u001b[0;34m\u001b[0m\u001b[0;34m\u001b[0m\u001b[0m\n",
      "\u001b[0;32m~/anaconda3/envs/cati_env/lib/python3.8/site-packages/tensorflow/python/profiler/trace.py\u001b[0m in \u001b[0;36mwrapped\u001b[0;34m(*args, **kwargs)\u001b[0m\n\u001b[1;32m    161\u001b[0m         \u001b[0;32mwith\u001b[0m \u001b[0mTrace\u001b[0m\u001b[0;34m(\u001b[0m\u001b[0mtrace_name\u001b[0m\u001b[0;34m,\u001b[0m \u001b[0;34m**\u001b[0m\u001b[0mtrace_kwargs\u001b[0m\u001b[0;34m)\u001b[0m\u001b[0;34m:\u001b[0m\u001b[0;34m\u001b[0m\u001b[0;34m\u001b[0m\u001b[0m\n\u001b[1;32m    162\u001b[0m           \u001b[0;32mreturn\u001b[0m \u001b[0mfunc\u001b[0m\u001b[0;34m(\u001b[0m\u001b[0;34m*\u001b[0m\u001b[0margs\u001b[0m\u001b[0;34m,\u001b[0m \u001b[0;34m**\u001b[0m\u001b[0mkwargs\u001b[0m\u001b[0;34m)\u001b[0m\u001b[0;34m\u001b[0m\u001b[0;34m\u001b[0m\u001b[0m\n\u001b[0;32m--> 163\u001b[0;31m       \u001b[0;32mreturn\u001b[0m \u001b[0mfunc\u001b[0m\u001b[0;34m(\u001b[0m\u001b[0;34m*\u001b[0m\u001b[0margs\u001b[0m\u001b[0;34m,\u001b[0m \u001b[0;34m**\u001b[0m\u001b[0mkwargs\u001b[0m\u001b[0;34m)\u001b[0m\u001b[0;34m\u001b[0m\u001b[0;34m\u001b[0m\u001b[0m\n\u001b[0m\u001b[1;32m    164\u001b[0m \u001b[0;34m\u001b[0m\u001b[0m\n\u001b[1;32m    165\u001b[0m     \u001b[0;32mreturn\u001b[0m \u001b[0mwrapped\u001b[0m\u001b[0;34m\u001b[0m\u001b[0;34m\u001b[0m\u001b[0m\n",
      "\u001b[0;32m~/anaconda3/envs/cati_env/lib/python3.8/site-packages/tensorflow/python/framework/ops.py\u001b[0m in \u001b[0;36mconvert_to_tensor\u001b[0;34m(value, dtype, name, as_ref, preferred_dtype, dtype_hint, ctx, accepted_result_types)\u001b[0m\n\u001b[1;32m   1538\u001b[0m \u001b[0;34m\u001b[0m\u001b[0m\n\u001b[1;32m   1539\u001b[0m     \u001b[0;32mif\u001b[0m \u001b[0mret\u001b[0m \u001b[0;32mis\u001b[0m \u001b[0;32mNone\u001b[0m\u001b[0;34m:\u001b[0m\u001b[0;34m\u001b[0m\u001b[0;34m\u001b[0m\u001b[0m\n\u001b[0;32m-> 1540\u001b[0;31m       \u001b[0mret\u001b[0m \u001b[0;34m=\u001b[0m \u001b[0mconversion_func\u001b[0m\u001b[0;34m(\u001b[0m\u001b[0mvalue\u001b[0m\u001b[0;34m,\u001b[0m \u001b[0mdtype\u001b[0m\u001b[0;34m=\u001b[0m\u001b[0mdtype\u001b[0m\u001b[0;34m,\u001b[0m \u001b[0mname\u001b[0m\u001b[0;34m=\u001b[0m\u001b[0mname\u001b[0m\u001b[0;34m,\u001b[0m \u001b[0mas_ref\u001b[0m\u001b[0;34m=\u001b[0m\u001b[0mas_ref\u001b[0m\u001b[0;34m)\u001b[0m\u001b[0;34m\u001b[0m\u001b[0;34m\u001b[0m\u001b[0m\n\u001b[0m\u001b[1;32m   1541\u001b[0m \u001b[0;34m\u001b[0m\u001b[0m\n\u001b[1;32m   1542\u001b[0m     \u001b[0;32mif\u001b[0m \u001b[0mret\u001b[0m \u001b[0;32mis\u001b[0m \u001b[0mNotImplemented\u001b[0m\u001b[0;34m:\u001b[0m\u001b[0;34m\u001b[0m\u001b[0;34m\u001b[0m\u001b[0m\n",
      "\u001b[0;32m~/anaconda3/envs/cati_env/lib/python3.8/site-packages/tensorflow/python/framework/constant_op.py\u001b[0m in \u001b[0;36m_constant_tensor_conversion_function\u001b[0;34m(v, dtype, name, as_ref)\u001b[0m\n\u001b[1;32m    337\u001b[0m                                          as_ref=False):\n\u001b[1;32m    338\u001b[0m   \u001b[0m_\u001b[0m \u001b[0;34m=\u001b[0m \u001b[0mas_ref\u001b[0m\u001b[0;34m\u001b[0m\u001b[0;34m\u001b[0m\u001b[0m\n\u001b[0;32m--> 339\u001b[0;31m   \u001b[0;32mreturn\u001b[0m \u001b[0mconstant\u001b[0m\u001b[0;34m(\u001b[0m\u001b[0mv\u001b[0m\u001b[0;34m,\u001b[0m \u001b[0mdtype\u001b[0m\u001b[0;34m=\u001b[0m\u001b[0mdtype\u001b[0m\u001b[0;34m,\u001b[0m \u001b[0mname\u001b[0m\u001b[0;34m=\u001b[0m\u001b[0mname\u001b[0m\u001b[0;34m)\u001b[0m\u001b[0;34m\u001b[0m\u001b[0;34m\u001b[0m\u001b[0m\n\u001b[0m\u001b[1;32m    340\u001b[0m \u001b[0;34m\u001b[0m\u001b[0m\n\u001b[1;32m    341\u001b[0m \u001b[0;34m\u001b[0m\u001b[0m\n",
      "\u001b[0;32m~/anaconda3/envs/cati_env/lib/python3.8/site-packages/tensorflow/python/framework/constant_op.py\u001b[0m in \u001b[0;36mconstant\u001b[0;34m(value, dtype, shape, name)\u001b[0m\n\u001b[1;32m    262\u001b[0m     \u001b[0mValueError\u001b[0m\u001b[0;34m:\u001b[0m \u001b[0;32mif\u001b[0m \u001b[0mcalled\u001b[0m \u001b[0mon\u001b[0m \u001b[0ma\u001b[0m \u001b[0msymbolic\u001b[0m \u001b[0mtensor\u001b[0m\u001b[0;34m.\u001b[0m\u001b[0;34m\u001b[0m\u001b[0;34m\u001b[0m\u001b[0m\n\u001b[1;32m    263\u001b[0m   \"\"\"\n\u001b[0;32m--> 264\u001b[0;31m   return _constant_impl(value, dtype, shape, name, verify_shape=False,\n\u001b[0m\u001b[1;32m    265\u001b[0m                         allow_broadcast=True)\n\u001b[1;32m    266\u001b[0m \u001b[0;34m\u001b[0m\u001b[0m\n",
      "\u001b[0;32m~/anaconda3/envs/cati_env/lib/python3.8/site-packages/tensorflow/python/framework/constant_op.py\u001b[0m in \u001b[0;36m_constant_impl\u001b[0;34m(value, dtype, shape, name, verify_shape, allow_broadcast)\u001b[0m\n\u001b[1;32m    274\u001b[0m       \u001b[0;32mwith\u001b[0m \u001b[0mtrace\u001b[0m\u001b[0;34m.\u001b[0m\u001b[0mTrace\u001b[0m\u001b[0;34m(\u001b[0m\u001b[0;34m\"tf.constant\"\u001b[0m\u001b[0;34m)\u001b[0m\u001b[0;34m:\u001b[0m\u001b[0;34m\u001b[0m\u001b[0;34m\u001b[0m\u001b[0m\n\u001b[1;32m    275\u001b[0m         \u001b[0;32mreturn\u001b[0m \u001b[0m_constant_eager_impl\u001b[0m\u001b[0;34m(\u001b[0m\u001b[0mctx\u001b[0m\u001b[0;34m,\u001b[0m \u001b[0mvalue\u001b[0m\u001b[0;34m,\u001b[0m \u001b[0mdtype\u001b[0m\u001b[0;34m,\u001b[0m \u001b[0mshape\u001b[0m\u001b[0;34m,\u001b[0m \u001b[0mverify_shape\u001b[0m\u001b[0;34m)\u001b[0m\u001b[0;34m\u001b[0m\u001b[0;34m\u001b[0m\u001b[0m\n\u001b[0;32m--> 276\u001b[0;31m     \u001b[0;32mreturn\u001b[0m \u001b[0m_constant_eager_impl\u001b[0m\u001b[0;34m(\u001b[0m\u001b[0mctx\u001b[0m\u001b[0;34m,\u001b[0m \u001b[0mvalue\u001b[0m\u001b[0;34m,\u001b[0m \u001b[0mdtype\u001b[0m\u001b[0;34m,\u001b[0m \u001b[0mshape\u001b[0m\u001b[0;34m,\u001b[0m \u001b[0mverify_shape\u001b[0m\u001b[0;34m)\u001b[0m\u001b[0;34m\u001b[0m\u001b[0;34m\u001b[0m\u001b[0m\n\u001b[0m\u001b[1;32m    277\u001b[0m \u001b[0;34m\u001b[0m\u001b[0m\n\u001b[1;32m    278\u001b[0m   \u001b[0mg\u001b[0m \u001b[0;34m=\u001b[0m \u001b[0mops\u001b[0m\u001b[0;34m.\u001b[0m\u001b[0mget_default_graph\u001b[0m\u001b[0;34m(\u001b[0m\u001b[0;34m)\u001b[0m\u001b[0;34m\u001b[0m\u001b[0;34m\u001b[0m\u001b[0m\n",
      "\u001b[0;32m~/anaconda3/envs/cati_env/lib/python3.8/site-packages/tensorflow/python/framework/constant_op.py\u001b[0m in \u001b[0;36m_constant_eager_impl\u001b[0;34m(ctx, value, dtype, shape, verify_shape)\u001b[0m\n\u001b[1;32m    299\u001b[0m \u001b[0;32mdef\u001b[0m \u001b[0m_constant_eager_impl\u001b[0m\u001b[0;34m(\u001b[0m\u001b[0mctx\u001b[0m\u001b[0;34m,\u001b[0m \u001b[0mvalue\u001b[0m\u001b[0;34m,\u001b[0m \u001b[0mdtype\u001b[0m\u001b[0;34m,\u001b[0m \u001b[0mshape\u001b[0m\u001b[0;34m,\u001b[0m \u001b[0mverify_shape\u001b[0m\u001b[0;34m)\u001b[0m\u001b[0;34m:\u001b[0m\u001b[0;34m\u001b[0m\u001b[0;34m\u001b[0m\u001b[0m\n\u001b[1;32m    300\u001b[0m   \u001b[0;34m\"\"\"Implementation of eager constant.\"\"\"\u001b[0m\u001b[0;34m\u001b[0m\u001b[0;34m\u001b[0m\u001b[0m\n\u001b[0;32m--> 301\u001b[0;31m   \u001b[0mt\u001b[0m \u001b[0;34m=\u001b[0m \u001b[0mconvert_to_eager_tensor\u001b[0m\u001b[0;34m(\u001b[0m\u001b[0mvalue\u001b[0m\u001b[0;34m,\u001b[0m \u001b[0mctx\u001b[0m\u001b[0;34m,\u001b[0m \u001b[0mdtype\u001b[0m\u001b[0;34m)\u001b[0m\u001b[0;34m\u001b[0m\u001b[0;34m\u001b[0m\u001b[0m\n\u001b[0m\u001b[1;32m    302\u001b[0m   \u001b[0;32mif\u001b[0m \u001b[0mshape\u001b[0m \u001b[0;32mis\u001b[0m \u001b[0;32mNone\u001b[0m\u001b[0;34m:\u001b[0m\u001b[0;34m\u001b[0m\u001b[0;34m\u001b[0m\u001b[0m\n\u001b[1;32m    303\u001b[0m     \u001b[0;32mreturn\u001b[0m \u001b[0mt\u001b[0m\u001b[0;34m\u001b[0m\u001b[0;34m\u001b[0m\u001b[0m\n",
      "\u001b[0;32m~/anaconda3/envs/cati_env/lib/python3.8/site-packages/tensorflow/python/framework/constant_op.py\u001b[0m in \u001b[0;36mconvert_to_eager_tensor\u001b[0;34m(value, ctx, dtype)\u001b[0m\n\u001b[1;32m     96\u001b[0m       \u001b[0mdtype\u001b[0m \u001b[0;34m=\u001b[0m \u001b[0mdtypes\u001b[0m\u001b[0;34m.\u001b[0m\u001b[0mas_dtype\u001b[0m\u001b[0;34m(\u001b[0m\u001b[0mdtype\u001b[0m\u001b[0;34m)\u001b[0m\u001b[0;34m.\u001b[0m\u001b[0mas_datatype_enum\u001b[0m\u001b[0;34m\u001b[0m\u001b[0;34m\u001b[0m\u001b[0m\n\u001b[1;32m     97\u001b[0m   \u001b[0mctx\u001b[0m\u001b[0;34m.\u001b[0m\u001b[0mensure_initialized\u001b[0m\u001b[0;34m(\u001b[0m\u001b[0;34m)\u001b[0m\u001b[0;34m\u001b[0m\u001b[0;34m\u001b[0m\u001b[0m\n\u001b[0;32m---> 98\u001b[0;31m   \u001b[0;32mreturn\u001b[0m \u001b[0mops\u001b[0m\u001b[0;34m.\u001b[0m\u001b[0mEagerTensor\u001b[0m\u001b[0;34m(\u001b[0m\u001b[0mvalue\u001b[0m\u001b[0;34m,\u001b[0m \u001b[0mctx\u001b[0m\u001b[0;34m.\u001b[0m\u001b[0mdevice_name\u001b[0m\u001b[0;34m,\u001b[0m \u001b[0mdtype\u001b[0m\u001b[0;34m)\u001b[0m\u001b[0;34m\u001b[0m\u001b[0;34m\u001b[0m\u001b[0m\n\u001b[0m\u001b[1;32m     99\u001b[0m \u001b[0;34m\u001b[0m\u001b[0m\n\u001b[1;32m    100\u001b[0m \u001b[0;34m\u001b[0m\u001b[0m\n",
      "\u001b[0;31mValueError\u001b[0m: Failed to convert a NumPy array to a Tensor (Unsupported object type int)."
     ]
    }
   ],
   "source": [
    "train, valid = train_test_split(df, test_size=0.2)\n",
    "train = train.dropna()\n",
    "valid = valid.dropna()\n",
    "training_sentences = train.iloc[:, 0]\n",
    "validation_sentences = valid.iloc[:, 0]\n",
    "training_labels = train.iloc[:, 2]\n",
    "validation_labels = valid.iloc[:, 2]\n",
    "\n",
    "train_encodings = tokenizer(training_sentences.tolist(),truncation=True,padding=True)\n",
    "val_encodings = tokenizer(validation_sentences.tolist(),truncation=True,padding=True)\n",
    "\n",
    "train_dataset = tf.data.Dataset.from_tensor_slices((dict(train_encodings),training_labels))\n",
    "val_dataset = tf.data.Dataset.from_tensor_slices((dict(val_encodings),validation_labels))\n"
   ]
  },
  {
   "cell_type": "code",
   "execution_count": 3,
   "metadata": {},
   "outputs": [
    {
     "output_type": "error",
     "ename": "NameError",
     "evalue": "name 'train' is not defined",
     "traceback": [
      "\u001b[0;31m---------------------------------------------------------------------------\u001b[0m",
      "\u001b[0;31mNameError\u001b[0m                                 Traceback (most recent call last)",
      "\u001b[0;32m<ipython-input-3-3536571a9bc3>\u001b[0m in \u001b[0;36m<module>\u001b[0;34m\u001b[0m\n\u001b[0;32m----> 1\u001b[0;31m \u001b[0mtrain\u001b[0m\u001b[0;34m\u001b[0m\u001b[0;34m\u001b[0m\u001b[0m\n\u001b[0m",
      "\u001b[0;31mNameError\u001b[0m: name 'train' is not defined"
     ]
    }
   ],
   "source": [
    "train"
   ]
  },
  {
   "cell_type": "code",
   "execution_count": null,
   "metadata": {
    "colab": {
     "base_uri": "https://localhost:8080/",
     "height": 225,
     "referenced_widgets": [
      "255aba48eace4dae9bd56a52700cf275",
      "492c06cd07af4ea1aee41233cab4925f",
      "31b3b9aea974400a8844cc8d96a5a368",
      "fab56bdae35748ec815cf4731e87249b",
      "b28ea53af0414c4d89a6d425df028c44",
      "3639f990564542968e3e9f5af0d33319",
      "ff70ed90c8144365af927928ffaedcff",
      "dd4d1c550437439f827b2ec86bac735c",
      "22067e574a444593818dde4aa5ba6ac0",
      "92c3306fc7eb4baeb5464dc6f92070a4",
      "989bb9868b664f9f854e7d0500aca787",
      "4ad6c9a143ff4fc185fe36a2fe1fb234",
      "b7eb4df4120d41d29ed3bafc72f7709a",
      "1029efab61374b7c8c6927e07bbf6a2d",
      "50068cb5a2ac47dea15e4e1636f68806",
      "bee2b0f175b749a79ddc70785c9b537c"
     ]
    },
    "executionInfo": {
     "elapsed": 29014,
     "status": "ok",
     "timestamp": 1611936596289,
     "user": {
      "displayName": "Amine Nahid",
      "photoUrl": "https://lh3.googleusercontent.com/a-/AOh14Gjta6xc2OIrod2QeIOzOwOxxvQJFxV96DdG1KCZsQ=s64",
      "userId": "01452933282173345619"
     },
     "user_tz": -60
    },
    "id": "sTciCDQUs7qy",
    "outputId": "a2e8a118-c706-4b40-d548-5841e9cc68e2"
   },
   "outputs": [],
   "source": [
    "model = TFDistilBertForSequenceClassification.from_pretrained('distilbert-base-multilingual-cased')\n"
   ]
  },
  {
   "cell_type": "code",
   "execution_count": null,
   "metadata": {
    "colab": {
     "base_uri": "https://localhost:8080/"
    },
    "executionInfo": {
     "elapsed": 4801456,
     "status": "ok",
     "timestamp": 1611941415302,
     "user": {
      "displayName": "Amine Nahid",
      "photoUrl": "https://lh3.googleusercontent.com/a-/AOh14Gjta6xc2OIrod2QeIOzOwOxxvQJFxV96DdG1KCZsQ=s64",
      "userId": "01452933282173345619"
     },
     "user_tz": -60
    },
    "id": "X5JTCHwXzjPA",
    "outputId": "a2308318-e24a-452a-b7f5-112417acd4ae"
   },
   "outputs": [],
   "source": [
    "optimizer = tf.keras.optimizers.Adam(learning_rate=5e-5)\n",
    "model.compile(optimizer=optimizer, loss=model.compute_loss, metrics=['accuracy'])\n",
    "model.fit(train_dataset.shuffle(50).batch(16), \n",
    "          epochs=3, \n",
    "          batch_size=16, \n",
    "          validation_data=val_dataset.shuffle(50).batch(16))\n"
   ]
  },
  {
   "cell_type": "code",
   "execution_count": 2,
   "metadata": {
    "executionInfo": {
     "elapsed": 2869,
     "status": "ok",
     "timestamp": 1611941550357,
     "user": {
      "displayName": "Amine Nahid",
      "photoUrl": "https://lh3.googleusercontent.com/a-/AOh14Gjta6xc2OIrod2QeIOzOwOxxvQJFxV96DdG1KCZsQ=s64",
      "userId": "01452933282173345619"
     },
     "user_tz": -60
    },
    "id": "Rm5peIAMzqAy"
   },
   "outputs": [
    {
     "output_type": "error",
     "ename": "NameError",
     "evalue": "name 'model' is not defined",
     "traceback": [
      "\u001b[0;31m---------------------------------------------------------------------------\u001b[0m",
      "\u001b[0;31mNameError\u001b[0m                                 Traceback (most recent call last)",
      "\u001b[0;32m<ipython-input-2-4e830165fbbe>\u001b[0m in \u001b[0;36m<module>\u001b[0;34m\u001b[0m\n\u001b[1;32m      1\u001b[0m \u001b[0;31m#Model backup\u001b[0m\u001b[0;34m\u001b[0m\u001b[0;34m\u001b[0m\u001b[0;34m\u001b[0m\u001b[0m\n\u001b[0;32m----> 2\u001b[0;31m \u001b[0mmodel\u001b[0m\u001b[0;34m.\u001b[0m\u001b[0msave_pretrained\u001b[0m\u001b[0;34m(\u001b[0m\u001b[0;34m\"./french_model\"\u001b[0m\u001b[0;34m)\u001b[0m\u001b[0;34m\u001b[0m\u001b[0;34m\u001b[0m\u001b[0m\n\u001b[0m",
      "\u001b[0;31mNameError\u001b[0m: name 'model' is not defined"
     ]
    }
   ],
   "source": [
    "#Model backup\n",
    "model.save_pretrained(\"./french_model\")"
   ]
  },
  {
   "cell_type": "code",
   "execution_count": null,
   "metadata": {
    "colab": {
     "base_uri": "https://localhost:8080/"
    },
    "executionInfo": {
     "elapsed": 4433,
     "status": "ok",
     "timestamp": 1611942228643,
     "user": {
      "displayName": "Amine Nahid",
      "photoUrl": "https://lh3.googleusercontent.com/a-/AOh14Gjta6xc2OIrod2QeIOzOwOxxvQJFxV96DdG1KCZsQ=s64",
      "userId": "01452933282173345619"
     },
     "user_tz": -60
    },
    "id": "YldxOacYzs73",
    "outputId": "c8e4f533-002d-49b7-e0ba-918ab4c0ba00"
   },
   "outputs": [],
   "source": [
    "loaded_model = TFDistilBertForSequenceClassification.from_pretrained(\"./BERT_classifier_fr\")"
   ]
  },
  {
   "cell_type": "markdown",
   "metadata": {
    "id": "OSrXoi-2oUJ5"
   },
   "source": [
    "##Quick test of the model"
   ]
  },
  {
   "cell_type": "code",
   "execution_count": null,
   "metadata": {
    "executionInfo": {
     "elapsed": 1232,
     "status": "ok",
     "timestamp": 1611942289047,
     "user": {
      "displayName": "Amine Nahid",
      "photoUrl": "https://lh3.googleusercontent.com/a-/AOh14Gjta6xc2OIrod2QeIOzOwOxxvQJFxV96DdG1KCZsQ=s64",
      "userId": "01452933282173345619"
     },
     "user_tz": -60
    },
    "id": "PtTVAWTUoxJ6"
   },
   "outputs": [],
   "source": [
    "test_sentence_yes_0 = \"Une année américaine, un numéro spécial indispensable pour comprendre les États-Unis\"\n",
    "test_sentence_yes_1 = \"Le scandale Sanofi continue : incapable de sortir un vaccin anti-Covid, le labo saborde encore sa recherche\"\n",
    "test_sentence_no_0 = \"France\"\n",
    "test_sentence_no_1 = \"Sommaire\"\n",
    "test_sentence_no_2 = \"Société\"\n",
    "\n",
    "test = list()\n",
    "test.append(test_sentence_yes_0)\n",
    "test.append(test_sentence_yes_1)\n",
    "test.append(test_sentence_no_0)\n",
    "test.append(test_sentence_no_1)\n",
    "test.append(test_sentence_no_2)\n",
    "test.append(\"Lyon. Derrière la rénovation du quartier de la Duchère, le cauchemar des habitants\")\n",
    "test.append(\"Article réservé aux abonn\")\n",
    "\n",
    "output = list()\n",
    "for test_unit in test:\n",
    "  predict_input = tokenizer.encode(test_unit,\n",
    "                                  truncation=True,\n",
    "                                  padding=True,\n",
    "                                  return_tensors=\"tf\")\n",
    "  tf_output = loaded_model.predict(predict_input)[0]\n",
    "  output.append(tf_output)\n"
   ]
  },
  {
   "cell_type": "code",
   "execution_count": null,
   "metadata": {
    "colab": {
     "base_uri": "https://localhost:8080/"
    },
    "executionInfo": {
     "elapsed": 567,
     "status": "ok",
     "timestamp": 1611942290169,
     "user": {
      "displayName": "Amine Nahid",
      "photoUrl": "https://lh3.googleusercontent.com/a-/AOh14Gjta6xc2OIrod2QeIOzOwOxxvQJFxV96DdG1KCZsQ=s64",
      "userId": "01452933282173345619"
     },
     "user_tz": -60
    },
    "id": "zIPqaeFlo64k",
    "outputId": "c7c26700-08bc-4ba2-93a6-a8cbf73d5b90"
   },
   "outputs": [],
   "source": [
    "for output_unit in output:\n",
    "  tf_prediction = tf.nn.softmax(output_unit, axis=1).numpy()[0]\n",
    "  print(tf_prediction[1])\n"
   ]
  },
  {
   "cell_type": "code",
   "execution_count": null,
   "metadata": {},
   "outputs": [],
   "source": [
    "output"
   ]
  },
  {
   "cell_type": "code",
   "execution_count": null,
   "metadata": {},
   "outputs": [],
   "source": []
  }
 ],
 "metadata": {
  "colab": {
   "collapsed_sections": [],
   "name": "BERT_french_commented.ipynb",
   "provenance": [],
   "toc_visible": true
  },
  "kernelspec": {
   "name": "python3",
   "display_name": "Python 3.8.10 64-bit ('venv3.8': conda)"
  },
  "language_info": {
   "codemirror_mode": {
    "name": "ipython",
    "version": 3
   },
   "file_extension": ".py",
   "mimetype": "text/x-python",
   "name": "python",
   "nbconvert_exporter": "python",
   "pygments_lexer": "ipython3",
   "version": "3.8.10"
  },
  "widgets": {
   "application/vnd.jupyter.widget-state+json": {
    "03214b4960a545eb9a5dac203eae0fe9": {
     "model_module": "@jupyter-widgets/controls",
     "model_name": "HTMLModel",
     "state": {
      "_dom_classes": [],
      "_model_module": "@jupyter-widgets/controls",
      "_model_module_version": "1.5.0",
      "_model_name": "HTMLModel",
      "_view_count": null,
      "_view_module": "@jupyter-widgets/controls",
      "_view_module_version": "1.5.0",
      "_view_name": "HTMLView",
      "description": "",
      "description_tooltip": null,
      "layout": "IPY_MODEL_bee34fa1b53a4543a0688bbbc233cd5d",
      "placeholder": "​",
      "style": "IPY_MODEL_937982e6c91d48fdbf1e0333b7878728",
      "value": " 996k/996k [00:02&lt;00:00, 462kB/s]"
     }
    },
    "0e65c5135dad424da6a5c257c53ac345": {
     "model_module": "@jupyter-widgets/controls",
     "model_name": "FloatProgressModel",
     "state": {
      "_dom_classes": [],
      "_model_module": "@jupyter-widgets/controls",
      "_model_module_version": "1.5.0",
      "_model_name": "FloatProgressModel",
      "_view_count": null,
      "_view_module": "@jupyter-widgets/controls",
      "_view_module_version": "1.5.0",
      "_view_name": "ProgressView",
      "bar_style": "success",
      "description": "Downloading: 100%",
      "description_tooltip": null,
      "layout": "IPY_MODEL_795febc594ad459581df822f77fa5a08",
      "max": 29,
      "min": 0,
      "orientation": "horizontal",
      "style": "IPY_MODEL_384c713b6aec4679abd0a97190bb4f56",
      "value": 29
     }
    },
    "1029efab61374b7c8c6927e07bbf6a2d": {
     "model_module": "@jupyter-widgets/base",
     "model_name": "LayoutModel",
     "state": {
      "_model_module": "@jupyter-widgets/base",
      "_model_module_version": "1.2.0",
      "_model_name": "LayoutModel",
      "_view_count": null,
      "_view_module": "@jupyter-widgets/base",
      "_view_module_version": "1.2.0",
      "_view_name": "LayoutView",
      "align_content": null,
      "align_items": null,
      "align_self": null,
      "border": null,
      "bottom": null,
      "display": null,
      "flex": null,
      "flex_flow": null,
      "grid_area": null,
      "grid_auto_columns": null,
      "grid_auto_flow": null,
      "grid_auto_rows": null,
      "grid_column": null,
      "grid_gap": null,
      "grid_row": null,
      "grid_template_areas": null,
      "grid_template_columns": null,
      "grid_template_rows": null,
      "height": null,
      "justify_content": null,
      "justify_items": null,
      "left": null,
      "margin": null,
      "max_height": null,
      "max_width": null,
      "min_height": null,
      "min_width": null,
      "object_fit": null,
      "object_position": null,
      "order": null,
      "overflow": null,
      "overflow_x": null,
      "overflow_y": null,
      "padding": null,
      "right": null,
      "top": null,
      "visibility": null,
      "width": null
     }
    },
    "1a15be6d2f084b7788dcc88148037502": {
     "model_module": "@jupyter-widgets/controls",
     "model_name": "ProgressStyleModel",
     "state": {
      "_model_module": "@jupyter-widgets/controls",
      "_model_module_version": "1.5.0",
      "_model_name": "ProgressStyleModel",
      "_view_count": null,
      "_view_module": "@jupyter-widgets/base",
      "_view_module_version": "1.2.0",
      "_view_name": "StyleView",
      "bar_color": null,
      "description_width": "initial"
     }
    },
    "22067e574a444593818dde4aa5ba6ac0": {
     "model_module": "@jupyter-widgets/controls",
     "model_name": "HBoxModel",
     "state": {
      "_dom_classes": [],
      "_model_module": "@jupyter-widgets/controls",
      "_model_module_version": "1.5.0",
      "_model_name": "HBoxModel",
      "_view_count": null,
      "_view_module": "@jupyter-widgets/controls",
      "_view_module_version": "1.5.0",
      "_view_name": "HBoxView",
      "box_style": "",
      "children": [
       "IPY_MODEL_989bb9868b664f9f854e7d0500aca787",
       "IPY_MODEL_4ad6c9a143ff4fc185fe36a2fe1fb234"
      ],
      "layout": "IPY_MODEL_92c3306fc7eb4baeb5464dc6f92070a4"
     }
    },
    "255aba48eace4dae9bd56a52700cf275": {
     "model_module": "@jupyter-widgets/controls",
     "model_name": "HBoxModel",
     "state": {
      "_dom_classes": [],
      "_model_module": "@jupyter-widgets/controls",
      "_model_module_version": "1.5.0",
      "_model_name": "HBoxModel",
      "_view_count": null,
      "_view_module": "@jupyter-widgets/controls",
      "_view_module_version": "1.5.0",
      "_view_name": "HBoxView",
      "box_style": "",
      "children": [
       "IPY_MODEL_31b3b9aea974400a8844cc8d96a5a368",
       "IPY_MODEL_fab56bdae35748ec815cf4731e87249b"
      ],
      "layout": "IPY_MODEL_492c06cd07af4ea1aee41233cab4925f"
     }
    },
    "299fe7770342452e94d062195a2a8d2b": {
     "model_module": "@jupyter-widgets/base",
     "model_name": "LayoutModel",
     "state": {
      "_model_module": "@jupyter-widgets/base",
      "_model_module_version": "1.2.0",
      "_model_name": "LayoutModel",
      "_view_count": null,
      "_view_module": "@jupyter-widgets/base",
      "_view_module_version": "1.2.0",
      "_view_name": "LayoutView",
      "align_content": null,
      "align_items": null,
      "align_self": null,
      "border": null,
      "bottom": null,
      "display": null,
      "flex": null,
      "flex_flow": null,
      "grid_area": null,
      "grid_auto_columns": null,
      "grid_auto_flow": null,
      "grid_auto_rows": null,
      "grid_column": null,
      "grid_gap": null,
      "grid_row": null,
      "grid_template_areas": null,
      "grid_template_columns": null,
      "grid_template_rows": null,
      "height": null,
      "justify_content": null,
      "justify_items": null,
      "left": null,
      "margin": null,
      "max_height": null,
      "max_width": null,
      "min_height": null,
      "min_width": null,
      "object_fit": null,
      "object_position": null,
      "order": null,
      "overflow": null,
      "overflow_x": null,
      "overflow_y": null,
      "padding": null,
      "right": null,
      "top": null,
      "visibility": null,
      "width": null
     }
    },
    "31b3b9aea974400a8844cc8d96a5a368": {
     "model_module": "@jupyter-widgets/controls",
     "model_name": "FloatProgressModel",
     "state": {
      "_dom_classes": [],
      "_model_module": "@jupyter-widgets/controls",
      "_model_module_version": "1.5.0",
      "_model_name": "FloatProgressModel",
      "_view_count": null,
      "_view_module": "@jupyter-widgets/controls",
      "_view_module_version": "1.5.0",
      "_view_name": "ProgressView",
      "bar_style": "success",
      "description": "Downloading: 100%",
      "description_tooltip": null,
      "layout": "IPY_MODEL_3639f990564542968e3e9f5af0d33319",
      "max": 466,
      "min": 0,
      "orientation": "horizontal",
      "style": "IPY_MODEL_b28ea53af0414c4d89a6d425df028c44",
      "value": 466
     }
    },
    "3639f990564542968e3e9f5af0d33319": {
     "model_module": "@jupyter-widgets/base",
     "model_name": "LayoutModel",
     "state": {
      "_model_module": "@jupyter-widgets/base",
      "_model_module_version": "1.2.0",
      "_model_name": "LayoutModel",
      "_view_count": null,
      "_view_module": "@jupyter-widgets/base",
      "_view_module_version": "1.2.0",
      "_view_name": "LayoutView",
      "align_content": null,
      "align_items": null,
      "align_self": null,
      "border": null,
      "bottom": null,
      "display": null,
      "flex": null,
      "flex_flow": null,
      "grid_area": null,
      "grid_auto_columns": null,
      "grid_auto_flow": null,
      "grid_auto_rows": null,
      "grid_column": null,
      "grid_gap": null,
      "grid_row": null,
      "grid_template_areas": null,
      "grid_template_columns": null,
      "grid_template_rows": null,
      "height": null,
      "justify_content": null,
      "justify_items": null,
      "left": null,
      "margin": null,
      "max_height": null,
      "max_width": null,
      "min_height": null,
      "min_width": null,
      "object_fit": null,
      "object_position": null,
      "order": null,
      "overflow": null,
      "overflow_x": null,
      "overflow_y": null,
      "padding": null,
      "right": null,
      "top": null,
      "visibility": null,
      "width": null
     }
    },
    "384c713b6aec4679abd0a97190bb4f56": {
     "model_module": "@jupyter-widgets/controls",
     "model_name": "ProgressStyleModel",
     "state": {
      "_model_module": "@jupyter-widgets/controls",
      "_model_module_version": "1.5.0",
      "_model_name": "ProgressStyleModel",
      "_view_count": null,
      "_view_module": "@jupyter-widgets/base",
      "_view_module_version": "1.2.0",
      "_view_name": "StyleView",
      "bar_color": null,
      "description_width": "initial"
     }
    },
    "48a8955ab3e949ac908c038e7433ff84": {
     "model_module": "@jupyter-widgets/controls",
     "model_name": "ProgressStyleModel",
     "state": {
      "_model_module": "@jupyter-widgets/controls",
      "_model_module_version": "1.5.0",
      "_model_name": "ProgressStyleModel",
      "_view_count": null,
      "_view_module": "@jupyter-widgets/base",
      "_view_module_version": "1.2.0",
      "_view_name": "StyleView",
      "bar_color": null,
      "description_width": "initial"
     }
    },
    "492c06cd07af4ea1aee41233cab4925f": {
     "model_module": "@jupyter-widgets/base",
     "model_name": "LayoutModel",
     "state": {
      "_model_module": "@jupyter-widgets/base",
      "_model_module_version": "1.2.0",
      "_model_name": "LayoutModel",
      "_view_count": null,
      "_view_module": "@jupyter-widgets/base",
      "_view_module_version": "1.2.0",
      "_view_name": "LayoutView",
      "align_content": null,
      "align_items": null,
      "align_self": null,
      "border": null,
      "bottom": null,
      "display": null,
      "flex": null,
      "flex_flow": null,
      "grid_area": null,
      "grid_auto_columns": null,
      "grid_auto_flow": null,
      "grid_auto_rows": null,
      "grid_column": null,
      "grid_gap": null,
      "grid_row": null,
      "grid_template_areas": null,
      "grid_template_columns": null,
      "grid_template_rows": null,
      "height": null,
      "justify_content": null,
      "justify_items": null,
      "left": null,
      "margin": null,
      "max_height": null,
      "max_width": null,
      "min_height": null,
      "min_width": null,
      "object_fit": null,
      "object_position": null,
      "order": null,
      "overflow": null,
      "overflow_x": null,
      "overflow_y": null,
      "padding": null,
      "right": null,
      "top": null,
      "visibility": null,
      "width": null
     }
    },
    "4ad6c9a143ff4fc185fe36a2fe1fb234": {
     "model_module": "@jupyter-widgets/controls",
     "model_name": "HTMLModel",
     "state": {
      "_dom_classes": [],
      "_model_module": "@jupyter-widgets/controls",
      "_model_module_version": "1.5.0",
      "_model_name": "HTMLModel",
      "_view_count": null,
      "_view_module": "@jupyter-widgets/controls",
      "_view_module_version": "1.5.0",
      "_view_name": "HTMLView",
      "description": "",
      "description_tooltip": null,
      "layout": "IPY_MODEL_bee2b0f175b749a79ddc70785c9b537c",
      "placeholder": "​",
      "style": "IPY_MODEL_50068cb5a2ac47dea15e4e1636f68806",
      "value": " 911M/911M [00:22&lt;00:00, 39.8MB/s]"
     }
    },
    "50068cb5a2ac47dea15e4e1636f68806": {
     "model_module": "@jupyter-widgets/controls",
     "model_name": "DescriptionStyleModel",
     "state": {
      "_model_module": "@jupyter-widgets/controls",
      "_model_module_version": "1.5.0",
      "_model_name": "DescriptionStyleModel",
      "_view_count": null,
      "_view_module": "@jupyter-widgets/base",
      "_view_module_version": "1.2.0",
      "_view_name": "StyleView",
      "description_width": ""
     }
    },
    "53343e825889490aa880c8e8d810f00f": {
     "model_module": "@jupyter-widgets/base",
     "model_name": "LayoutModel",
     "state": {
      "_model_module": "@jupyter-widgets/base",
      "_model_module_version": "1.2.0",
      "_model_name": "LayoutModel",
      "_view_count": null,
      "_view_module": "@jupyter-widgets/base",
      "_view_module_version": "1.2.0",
      "_view_name": "LayoutView",
      "align_content": null,
      "align_items": null,
      "align_self": null,
      "border": null,
      "bottom": null,
      "display": null,
      "flex": null,
      "flex_flow": null,
      "grid_area": null,
      "grid_auto_columns": null,
      "grid_auto_flow": null,
      "grid_auto_rows": null,
      "grid_column": null,
      "grid_gap": null,
      "grid_row": null,
      "grid_template_areas": null,
      "grid_template_columns": null,
      "grid_template_rows": null,
      "height": null,
      "justify_content": null,
      "justify_items": null,
      "left": null,
      "margin": null,
      "max_height": null,
      "max_width": null,
      "min_height": null,
      "min_width": null,
      "object_fit": null,
      "object_position": null,
      "order": null,
      "overflow": null,
      "overflow_x": null,
      "overflow_y": null,
      "padding": null,
      "right": null,
      "top": null,
      "visibility": null,
      "width": null
     }
    },
    "5f4c92cba6714290862b447823bbda66": {
     "model_module": "@jupyter-widgets/base",
     "model_name": "LayoutModel",
     "state": {
      "_model_module": "@jupyter-widgets/base",
      "_model_module_version": "1.2.0",
      "_model_name": "LayoutModel",
      "_view_count": null,
      "_view_module": "@jupyter-widgets/base",
      "_view_module_version": "1.2.0",
      "_view_name": "LayoutView",
      "align_content": null,
      "align_items": null,
      "align_self": null,
      "border": null,
      "bottom": null,
      "display": null,
      "flex": null,
      "flex_flow": null,
      "grid_area": null,
      "grid_auto_columns": null,
      "grid_auto_flow": null,
      "grid_auto_rows": null,
      "grid_column": null,
      "grid_gap": null,
      "grid_row": null,
      "grid_template_areas": null,
      "grid_template_columns": null,
      "grid_template_rows": null,
      "height": null,
      "justify_content": null,
      "justify_items": null,
      "left": null,
      "margin": null,
      "max_height": null,
      "max_width": null,
      "min_height": null,
      "min_width": null,
      "object_fit": null,
      "object_position": null,
      "order": null,
      "overflow": null,
      "overflow_x": null,
      "overflow_y": null,
      "padding": null,
      "right": null,
      "top": null,
      "visibility": null,
      "width": null
     }
    },
    "6d91437c35934f5aaee691efc119317a": {
     "model_module": "@jupyter-widgets/controls",
     "model_name": "DescriptionStyleModel",
     "state": {
      "_model_module": "@jupyter-widgets/controls",
      "_model_module_version": "1.5.0",
      "_model_name": "DescriptionStyleModel",
      "_view_count": null,
      "_view_module": "@jupyter-widgets/base",
      "_view_module_version": "1.2.0",
      "_view_name": "StyleView",
      "description_width": ""
     }
    },
    "76af9d0c897649afa415dd51b219d124": {
     "model_module": "@jupyter-widgets/base",
     "model_name": "LayoutModel",
     "state": {
      "_model_module": "@jupyter-widgets/base",
      "_model_module_version": "1.2.0",
      "_model_name": "LayoutModel",
      "_view_count": null,
      "_view_module": "@jupyter-widgets/base",
      "_view_module_version": "1.2.0",
      "_view_name": "LayoutView",
      "align_content": null,
      "align_items": null,
      "align_self": null,
      "border": null,
      "bottom": null,
      "display": null,
      "flex": null,
      "flex_flow": null,
      "grid_area": null,
      "grid_auto_columns": null,
      "grid_auto_flow": null,
      "grid_auto_rows": null,
      "grid_column": null,
      "grid_gap": null,
      "grid_row": null,
      "grid_template_areas": null,
      "grid_template_columns": null,
      "grid_template_rows": null,
      "height": null,
      "justify_content": null,
      "justify_items": null,
      "left": null,
      "margin": null,
      "max_height": null,
      "max_width": null,
      "min_height": null,
      "min_width": null,
      "object_fit": null,
      "object_position": null,
      "order": null,
      "overflow": null,
      "overflow_x": null,
      "overflow_y": null,
      "padding": null,
      "right": null,
      "top": null,
      "visibility": null,
      "width": null
     }
    },
    "795febc594ad459581df822f77fa5a08": {
     "model_module": "@jupyter-widgets/base",
     "model_name": "LayoutModel",
     "state": {
      "_model_module": "@jupyter-widgets/base",
      "_model_module_version": "1.2.0",
      "_model_name": "LayoutModel",
      "_view_count": null,
      "_view_module": "@jupyter-widgets/base",
      "_view_module_version": "1.2.0",
      "_view_name": "LayoutView",
      "align_content": null,
      "align_items": null,
      "align_self": null,
      "border": null,
      "bottom": null,
      "display": null,
      "flex": null,
      "flex_flow": null,
      "grid_area": null,
      "grid_auto_columns": null,
      "grid_auto_flow": null,
      "grid_auto_rows": null,
      "grid_column": null,
      "grid_gap": null,
      "grid_row": null,
      "grid_template_areas": null,
      "grid_template_columns": null,
      "grid_template_rows": null,
      "height": null,
      "justify_content": null,
      "justify_items": null,
      "left": null,
      "margin": null,
      "max_height": null,
      "max_width": null,
      "min_height": null,
      "min_width": null,
      "object_fit": null,
      "object_position": null,
      "order": null,
      "overflow": null,
      "overflow_x": null,
      "overflow_y": null,
      "padding": null,
      "right": null,
      "top": null,
      "visibility": null,
      "width": null
     }
    },
    "9051c64a16c14ba4a4d3b80b8fc4df08": {
     "model_module": "@jupyter-widgets/controls",
     "model_name": "HBoxModel",
     "state": {
      "_dom_classes": [],
      "_model_module": "@jupyter-widgets/controls",
      "_model_module_version": "1.5.0",
      "_model_name": "HBoxModel",
      "_view_count": null,
      "_view_module": "@jupyter-widgets/controls",
      "_view_module_version": "1.5.0",
      "_view_name": "HBoxView",
      "box_style": "",
      "children": [
       "IPY_MODEL_96a9f35f50f54a50ae69037e37a661ed",
       "IPY_MODEL_d8b187b63eef43d89e8a27b14c1414a2"
      ],
      "layout": "IPY_MODEL_d417c8f6c181421090e142f2c21a490f"
     }
    },
    "92c3306fc7eb4baeb5464dc6f92070a4": {
     "model_module": "@jupyter-widgets/base",
     "model_name": "LayoutModel",
     "state": {
      "_model_module": "@jupyter-widgets/base",
      "_model_module_version": "1.2.0",
      "_model_name": "LayoutModel",
      "_view_count": null,
      "_view_module": "@jupyter-widgets/base",
      "_view_module_version": "1.2.0",
      "_view_name": "LayoutView",
      "align_content": null,
      "align_items": null,
      "align_self": null,
      "border": null,
      "bottom": null,
      "display": null,
      "flex": null,
      "flex_flow": null,
      "grid_area": null,
      "grid_auto_columns": null,
      "grid_auto_flow": null,
      "grid_auto_rows": null,
      "grid_column": null,
      "grid_gap": null,
      "grid_row": null,
      "grid_template_areas": null,
      "grid_template_columns": null,
      "grid_template_rows": null,
      "height": null,
      "justify_content": null,
      "justify_items": null,
      "left": null,
      "margin": null,
      "max_height": null,
      "max_width": null,
      "min_height": null,
      "min_width": null,
      "object_fit": null,
      "object_position": null,
      "order": null,
      "overflow": null,
      "overflow_x": null,
      "overflow_y": null,
      "padding": null,
      "right": null,
      "top": null,
      "visibility": null,
      "width": null
     }
    },
    "937982e6c91d48fdbf1e0333b7878728": {
     "model_module": "@jupyter-widgets/controls",
     "model_name": "DescriptionStyleModel",
     "state": {
      "_model_module": "@jupyter-widgets/controls",
      "_model_module_version": "1.5.0",
      "_model_name": "DescriptionStyleModel",
      "_view_count": null,
      "_view_module": "@jupyter-widgets/base",
      "_view_module_version": "1.2.0",
      "_view_name": "StyleView",
      "description_width": ""
     }
    },
    "96a9f35f50f54a50ae69037e37a661ed": {
     "model_module": "@jupyter-widgets/controls",
     "model_name": "FloatProgressModel",
     "state": {
      "_dom_classes": [],
      "_model_module": "@jupyter-widgets/controls",
      "_model_module_version": "1.5.0",
      "_model_name": "FloatProgressModel",
      "_view_count": null,
      "_view_module": "@jupyter-widgets/controls",
      "_view_module_version": "1.5.0",
      "_view_name": "ProgressView",
      "bar_style": "success",
      "description": "Downloading: 100%",
      "description_tooltip": null,
      "layout": "IPY_MODEL_d8afb1027d38424f93f8194f8fba5d8e",
      "max": 1961828,
      "min": 0,
      "orientation": "horizontal",
      "style": "IPY_MODEL_1a15be6d2f084b7788dcc88148037502",
      "value": 1961828
     }
    },
    "989bb9868b664f9f854e7d0500aca787": {
     "model_module": "@jupyter-widgets/controls",
     "model_name": "FloatProgressModel",
     "state": {
      "_dom_classes": [],
      "_model_module": "@jupyter-widgets/controls",
      "_model_module_version": "1.5.0",
      "_model_name": "FloatProgressModel",
      "_view_count": null,
      "_view_module": "@jupyter-widgets/controls",
      "_view_module_version": "1.5.0",
      "_view_name": "ProgressView",
      "bar_style": "success",
      "description": "Downloading: 100%",
      "description_tooltip": null,
      "layout": "IPY_MODEL_1029efab61374b7c8c6927e07bbf6a2d",
      "max": 910749124,
      "min": 0,
      "orientation": "horizontal",
      "style": "IPY_MODEL_b7eb4df4120d41d29ed3bafc72f7709a",
      "value": 910749124
     }
    },
    "a3d3a99af37d45e5965882e7b72b38fc": {
     "model_module": "@jupyter-widgets/controls",
     "model_name": "HTMLModel",
     "state": {
      "_dom_classes": [],
      "_model_module": "@jupyter-widgets/controls",
      "_model_module_version": "1.5.0",
      "_model_name": "HTMLModel",
      "_view_count": null,
      "_view_module": "@jupyter-widgets/controls",
      "_view_module_version": "1.5.0",
      "_view_name": "HTMLView",
      "description": "",
      "description_tooltip": null,
      "layout": "IPY_MODEL_76af9d0c897649afa415dd51b219d124",
      "placeholder": "​",
      "style": "IPY_MODEL_f22de86b7a324a7aabce9d0e225aaa10",
      "value": " 29.0/29.0 [00:08&lt;00:00, 3.59B/s]"
     }
    },
    "a7f2e013b7f14f7e846a2467c4fa7e2d": {
     "model_module": "@jupyter-widgets/controls",
     "model_name": "HBoxModel",
     "state": {
      "_dom_classes": [],
      "_model_module": "@jupyter-widgets/controls",
      "_model_module_version": "1.5.0",
      "_model_name": "HBoxModel",
      "_view_count": null,
      "_view_module": "@jupyter-widgets/controls",
      "_view_module_version": "1.5.0",
      "_view_name": "HBoxView",
      "box_style": "",
      "children": [
       "IPY_MODEL_0e65c5135dad424da6a5c257c53ac345",
       "IPY_MODEL_a3d3a99af37d45e5965882e7b72b38fc"
      ],
      "layout": "IPY_MODEL_c1396bc42e7d4ec394d68d2daec165e4"
     }
    },
    "af7570f9279140adb34d86bcbade0287": {
     "model_module": "@jupyter-widgets/controls",
     "model_name": "HBoxModel",
     "state": {
      "_dom_classes": [],
      "_model_module": "@jupyter-widgets/controls",
      "_model_module_version": "1.5.0",
      "_model_name": "HBoxModel",
      "_view_count": null,
      "_view_module": "@jupyter-widgets/controls",
      "_view_module_version": "1.5.0",
      "_view_name": "HBoxView",
      "box_style": "",
      "children": [
       "IPY_MODEL_afbbe84edab847a7a4752e3a932afa32",
       "IPY_MODEL_03214b4960a545eb9a5dac203eae0fe9"
      ],
      "layout": "IPY_MODEL_299fe7770342452e94d062195a2a8d2b"
     }
    },
    "afbbe84edab847a7a4752e3a932afa32": {
     "model_module": "@jupyter-widgets/controls",
     "model_name": "FloatProgressModel",
     "state": {
      "_dom_classes": [],
      "_model_module": "@jupyter-widgets/controls",
      "_model_module_version": "1.5.0",
      "_model_name": "FloatProgressModel",
      "_view_count": null,
      "_view_module": "@jupyter-widgets/controls",
      "_view_module_version": "1.5.0",
      "_view_name": "ProgressView",
      "bar_style": "success",
      "description": "Downloading: 100%",
      "description_tooltip": null,
      "layout": "IPY_MODEL_53343e825889490aa880c8e8d810f00f",
      "max": 995526,
      "min": 0,
      "orientation": "horizontal",
      "style": "IPY_MODEL_48a8955ab3e949ac908c038e7433ff84",
      "value": 995526
     }
    },
    "b28ea53af0414c4d89a6d425df028c44": {
     "model_module": "@jupyter-widgets/controls",
     "model_name": "ProgressStyleModel",
     "state": {
      "_model_module": "@jupyter-widgets/controls",
      "_model_module_version": "1.5.0",
      "_model_name": "ProgressStyleModel",
      "_view_count": null,
      "_view_module": "@jupyter-widgets/base",
      "_view_module_version": "1.2.0",
      "_view_name": "StyleView",
      "bar_color": null,
      "description_width": "initial"
     }
    },
    "b7eb4df4120d41d29ed3bafc72f7709a": {
     "model_module": "@jupyter-widgets/controls",
     "model_name": "ProgressStyleModel",
     "state": {
      "_model_module": "@jupyter-widgets/controls",
      "_model_module_version": "1.5.0",
      "_model_name": "ProgressStyleModel",
      "_view_count": null,
      "_view_module": "@jupyter-widgets/base",
      "_view_module_version": "1.2.0",
      "_view_name": "StyleView",
      "bar_color": null,
      "description_width": "initial"
     }
    },
    "bee2b0f175b749a79ddc70785c9b537c": {
     "model_module": "@jupyter-widgets/base",
     "model_name": "LayoutModel",
     "state": {
      "_model_module": "@jupyter-widgets/base",
      "_model_module_version": "1.2.0",
      "_model_name": "LayoutModel",
      "_view_count": null,
      "_view_module": "@jupyter-widgets/base",
      "_view_module_version": "1.2.0",
      "_view_name": "LayoutView",
      "align_content": null,
      "align_items": null,
      "align_self": null,
      "border": null,
      "bottom": null,
      "display": null,
      "flex": null,
      "flex_flow": null,
      "grid_area": null,
      "grid_auto_columns": null,
      "grid_auto_flow": null,
      "grid_auto_rows": null,
      "grid_column": null,
      "grid_gap": null,
      "grid_row": null,
      "grid_template_areas": null,
      "grid_template_columns": null,
      "grid_template_rows": null,
      "height": null,
      "justify_content": null,
      "justify_items": null,
      "left": null,
      "margin": null,
      "max_height": null,
      "max_width": null,
      "min_height": null,
      "min_width": null,
      "object_fit": null,
      "object_position": null,
      "order": null,
      "overflow": null,
      "overflow_x": null,
      "overflow_y": null,
      "padding": null,
      "right": null,
      "top": null,
      "visibility": null,
      "width": null
     }
    },
    "bee34fa1b53a4543a0688bbbc233cd5d": {
     "model_module": "@jupyter-widgets/base",
     "model_name": "LayoutModel",
     "state": {
      "_model_module": "@jupyter-widgets/base",
      "_model_module_version": "1.2.0",
      "_model_name": "LayoutModel",
      "_view_count": null,
      "_view_module": "@jupyter-widgets/base",
      "_view_module_version": "1.2.0",
      "_view_name": "LayoutView",
      "align_content": null,
      "align_items": null,
      "align_self": null,
      "border": null,
      "bottom": null,
      "display": null,
      "flex": null,
      "flex_flow": null,
      "grid_area": null,
      "grid_auto_columns": null,
      "grid_auto_flow": null,
      "grid_auto_rows": null,
      "grid_column": null,
      "grid_gap": null,
      "grid_row": null,
      "grid_template_areas": null,
      "grid_template_columns": null,
      "grid_template_rows": null,
      "height": null,
      "justify_content": null,
      "justify_items": null,
      "left": null,
      "margin": null,
      "max_height": null,
      "max_width": null,
      "min_height": null,
      "min_width": null,
      "object_fit": null,
      "object_position": null,
      "order": null,
      "overflow": null,
      "overflow_x": null,
      "overflow_y": null,
      "padding": null,
      "right": null,
      "top": null,
      "visibility": null,
      "width": null
     }
    },
    "c1396bc42e7d4ec394d68d2daec165e4": {
     "model_module": "@jupyter-widgets/base",
     "model_name": "LayoutModel",
     "state": {
      "_model_module": "@jupyter-widgets/base",
      "_model_module_version": "1.2.0",
      "_model_name": "LayoutModel",
      "_view_count": null,
      "_view_module": "@jupyter-widgets/base",
      "_view_module_version": "1.2.0",
      "_view_name": "LayoutView",
      "align_content": null,
      "align_items": null,
      "align_self": null,
      "border": null,
      "bottom": null,
      "display": null,
      "flex": null,
      "flex_flow": null,
      "grid_area": null,
      "grid_auto_columns": null,
      "grid_auto_flow": null,
      "grid_auto_rows": null,
      "grid_column": null,
      "grid_gap": null,
      "grid_row": null,
      "grid_template_areas": null,
      "grid_template_columns": null,
      "grid_template_rows": null,
      "height": null,
      "justify_content": null,
      "justify_items": null,
      "left": null,
      "margin": null,
      "max_height": null,
      "max_width": null,
      "min_height": null,
      "min_width": null,
      "object_fit": null,
      "object_position": null,
      "order": null,
      "overflow": null,
      "overflow_x": null,
      "overflow_y": null,
      "padding": null,
      "right": null,
      "top": null,
      "visibility": null,
      "width": null
     }
    },
    "d417c8f6c181421090e142f2c21a490f": {
     "model_module": "@jupyter-widgets/base",
     "model_name": "LayoutModel",
     "state": {
      "_model_module": "@jupyter-widgets/base",
      "_model_module_version": "1.2.0",
      "_model_name": "LayoutModel",
      "_view_count": null,
      "_view_module": "@jupyter-widgets/base",
      "_view_module_version": "1.2.0",
      "_view_name": "LayoutView",
      "align_content": null,
      "align_items": null,
      "align_self": null,
      "border": null,
      "bottom": null,
      "display": null,
      "flex": null,
      "flex_flow": null,
      "grid_area": null,
      "grid_auto_columns": null,
      "grid_auto_flow": null,
      "grid_auto_rows": null,
      "grid_column": null,
      "grid_gap": null,
      "grid_row": null,
      "grid_template_areas": null,
      "grid_template_columns": null,
      "grid_template_rows": null,
      "height": null,
      "justify_content": null,
      "justify_items": null,
      "left": null,
      "margin": null,
      "max_height": null,
      "max_width": null,
      "min_height": null,
      "min_width": null,
      "object_fit": null,
      "object_position": null,
      "order": null,
      "overflow": null,
      "overflow_x": null,
      "overflow_y": null,
      "padding": null,
      "right": null,
      "top": null,
      "visibility": null,
      "width": null
     }
    },
    "d8afb1027d38424f93f8194f8fba5d8e": {
     "model_module": "@jupyter-widgets/base",
     "model_name": "LayoutModel",
     "state": {
      "_model_module": "@jupyter-widgets/base",
      "_model_module_version": "1.2.0",
      "_model_name": "LayoutModel",
      "_view_count": null,
      "_view_module": "@jupyter-widgets/base",
      "_view_module_version": "1.2.0",
      "_view_name": "LayoutView",
      "align_content": null,
      "align_items": null,
      "align_self": null,
      "border": null,
      "bottom": null,
      "display": null,
      "flex": null,
      "flex_flow": null,
      "grid_area": null,
      "grid_auto_columns": null,
      "grid_auto_flow": null,
      "grid_auto_rows": null,
      "grid_column": null,
      "grid_gap": null,
      "grid_row": null,
      "grid_template_areas": null,
      "grid_template_columns": null,
      "grid_template_rows": null,
      "height": null,
      "justify_content": null,
      "justify_items": null,
      "left": null,
      "margin": null,
      "max_height": null,
      "max_width": null,
      "min_height": null,
      "min_width": null,
      "object_fit": null,
      "object_position": null,
      "order": null,
      "overflow": null,
      "overflow_x": null,
      "overflow_y": null,
      "padding": null,
      "right": null,
      "top": null,
      "visibility": null,
      "width": null
     }
    },
    "d8b187b63eef43d89e8a27b14c1414a2": {
     "model_module": "@jupyter-widgets/controls",
     "model_name": "HTMLModel",
     "state": {
      "_dom_classes": [],
      "_model_module": "@jupyter-widgets/controls",
      "_model_module_version": "1.5.0",
      "_model_name": "HTMLModel",
      "_view_count": null,
      "_view_module": "@jupyter-widgets/controls",
      "_view_module_version": "1.5.0",
      "_view_name": "HTMLView",
      "description": "",
      "description_tooltip": null,
      "layout": "IPY_MODEL_5f4c92cba6714290862b447823bbda66",
      "placeholder": "​",
      "style": "IPY_MODEL_6d91437c35934f5aaee691efc119317a",
      "value": " 1.96M/1.96M [00:01&lt;00:00, 1.50MB/s]"
     }
    },
    "dd4d1c550437439f827b2ec86bac735c": {
     "model_module": "@jupyter-widgets/base",
     "model_name": "LayoutModel",
     "state": {
      "_model_module": "@jupyter-widgets/base",
      "_model_module_version": "1.2.0",
      "_model_name": "LayoutModel",
      "_view_count": null,
      "_view_module": "@jupyter-widgets/base",
      "_view_module_version": "1.2.0",
      "_view_name": "LayoutView",
      "align_content": null,
      "align_items": null,
      "align_self": null,
      "border": null,
      "bottom": null,
      "display": null,
      "flex": null,
      "flex_flow": null,
      "grid_area": null,
      "grid_auto_columns": null,
      "grid_auto_flow": null,
      "grid_auto_rows": null,
      "grid_column": null,
      "grid_gap": null,
      "grid_row": null,
      "grid_template_areas": null,
      "grid_template_columns": null,
      "grid_template_rows": null,
      "height": null,
      "justify_content": null,
      "justify_items": null,
      "left": null,
      "margin": null,
      "max_height": null,
      "max_width": null,
      "min_height": null,
      "min_width": null,
      "object_fit": null,
      "object_position": null,
      "order": null,
      "overflow": null,
      "overflow_x": null,
      "overflow_y": null,
      "padding": null,
      "right": null,
      "top": null,
      "visibility": null,
      "width": null
     }
    },
    "f22de86b7a324a7aabce9d0e225aaa10": {
     "model_module": "@jupyter-widgets/controls",
     "model_name": "DescriptionStyleModel",
     "state": {
      "_model_module": "@jupyter-widgets/controls",
      "_model_module_version": "1.5.0",
      "_model_name": "DescriptionStyleModel",
      "_view_count": null,
      "_view_module": "@jupyter-widgets/base",
      "_view_module_version": "1.2.0",
      "_view_name": "StyleView",
      "description_width": ""
     }
    },
    "fab56bdae35748ec815cf4731e87249b": {
     "model_module": "@jupyter-widgets/controls",
     "model_name": "HTMLModel",
     "state": {
      "_dom_classes": [],
      "_model_module": "@jupyter-widgets/controls",
      "_model_module_version": "1.5.0",
      "_model_name": "HTMLModel",
      "_view_count": null,
      "_view_module": "@jupyter-widgets/controls",
      "_view_module_version": "1.5.0",
      "_view_name": "HTMLView",
      "description": "",
      "description_tooltip": null,
      "layout": "IPY_MODEL_dd4d1c550437439f827b2ec86bac735c",
      "placeholder": "​",
      "style": "IPY_MODEL_ff70ed90c8144365af927928ffaedcff",
      "value": " 466/466 [00:00&lt;00:00, 646B/s]"
     }
    },
    "ff70ed90c8144365af927928ffaedcff": {
     "model_module": "@jupyter-widgets/controls",
     "model_name": "DescriptionStyleModel",
     "state": {
      "_model_module": "@jupyter-widgets/controls",
      "_model_module_version": "1.5.0",
      "_model_name": "DescriptionStyleModel",
      "_view_count": null,
      "_view_module": "@jupyter-widgets/base",
      "_view_module_version": "1.2.0",
      "_view_name": "StyleView",
      "description_width": ""
     }
    }
   }
  },
  "interpreter": {
   "hash": "54707f61fffe3e935d0867e9c7b0d00079ada525772d252db2acdbb7c24cd8df"
  }
 },
 "nbformat": 4,
 "nbformat_minor": 1
}